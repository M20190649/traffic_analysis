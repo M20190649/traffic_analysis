{
 "cells": [
  {
   "cell_type": "code",
   "execution_count": 2,
   "metadata": {},
   "outputs": [],
   "source": [
    "import dask.dataframe as dd\n",
    "import sys\n",
    "import time\n",
    "import pandas as pd\n",
    "import datetime\n",
    "from fbprophet import Prophet\n",
    "from matplotlib import pyplot as plt"
   ]
  },
  {
   "cell_type": "code",
   "execution_count": null,
   "metadata": {},
   "outputs": [],
   "source": [
    "sys.getdefaultencoding() "
   ]
  },
  {
   "cell_type": "code",
   "execution_count": null,
   "metadata": {},
   "outputs": [],
   "source": [
    "filename = '/Users/bluekidds/Downloads/tn_data/IISIRoadMOE.txt'\n",
    "filename_Bus = '/Users/bluekidds/Downloads/tn_data/IISIBusData.txt'"
   ]
  },
  {
   "cell_type": "code",
   "execution_count": null,
   "metadata": {},
   "outputs": [],
   "source": [
    "!tail -15 /Users/bluekidds/Downloads/tn_data/IISIRoadMOE.txt"
   ]
  },
  {
   "cell_type": "code",
   "execution_count": null,
   "metadata": {},
   "outputs": [],
   "source": [
    "!head -15 /Users/bluekidds/Downloads/tn_data/IISIBusData.txt"
   ]
  },
  {
   "cell_type": "code",
   "execution_count": null,
   "metadata": {},
   "outputs": [],
   "source": [
    "df = dd.read_csv(filename, encoding=\"big5\", header=None, sep=r\"\\s*\", error_bad_lines=False, usecols=[1,3,4,7])\n",
    "display(df.head())"
   ]
  },
  {
   "cell_type": "code",
   "execution_count": null,
   "metadata": {},
   "outputs": [],
   "source": [
    "df = dd.read_csv(filename, encoding=\"big5\", header=None, sep='\\t', error_bad_lines=False, usecols=[1,3,6])\n",
    "display(df.head())"
   ]
  },
  {
   "cell_type": "code",
   "execution_count": null,
   "metadata": {},
   "outputs": [],
   "source": [
    "df_road = dd.read_csv(filename, encoding=\"big5\", header=None, sep='\\t', error_bad_lines=False, usecols=[1,3,6])"
   ]
  },
  {
   "cell_type": "code",
   "execution_count": null,
   "metadata": {},
   "outputs": [],
   "source": [
    "df_road.astype({1: 'str'})\n",
    "df_road.head()"
   ]
  },
  {
   "cell_type": "code",
   "execution_count": null,
   "metadata": {},
   "outputs": [],
   "source": [
    "df_road[1].value_counts()"
   ]
  },
  {
   "cell_type": "code",
   "execution_count": null,
   "metadata": {},
   "outputs": [],
   "source": [
    "df['time'] = df[[3,4]].apply(lambda x: ' '.join(x), axis = 1)\n",
    "display(df.head())"
   ]
  },
  {
   "cell_type": "code",
   "execution_count": null,
   "metadata": {},
   "outputs": [],
   "source": [
    "df = df.drop([3,4], axis=1)\n",
    "display(df.head())"
   ]
  },
  {
   "cell_type": "code",
   "execution_count": null,
   "metadata": {},
   "outputs": [],
   "source": [
    "columns = ['RoadID','time', 'speed']\n",
    "\n",
    "df.columns = columns\n",
    "\n",
    "display(df.head())"
   ]
  },
  {
   "cell_type": "code",
   "execution_count": null,
   "metadata": {},
   "outputs": [],
   "source": [
    "df['time'] = pd.to_datetime(df['time'])\n",
    "display(df.head())"
   ]
  },
  {
   "cell_type": "code",
   "execution_count": null,
   "metadata": {},
   "outputs": [],
   "source": [
    "df1 = df[df['RoadID'] =='L03072']\n",
    "df1 = df1.to_csv('data/*.csv')"
   ]
  },
  {
   "cell_type": "code",
   "execution_count": null,
   "metadata": {},
   "outputs": [],
   "source": [
    "df_refine = df[['RoadID','time', 'speed']]\n",
    "df_refine.head()"
   ]
  },
  {
   "cell_type": "code",
   "execution_count": null,
   "metadata": {},
   "outputs": [],
   "source": [
    "df_refine1 = df_refine[df_refine['RoadID']=='L00620']\n",
    "df_refine1 = df_refine1.compute()"
   ]
  },
  {
   "cell_type": "code",
   "execution_count": null,
   "metadata": {},
   "outputs": [],
   "source": [
    "df_refine.to_csv('refine_data.csv')"
   ]
  },
  {
   "cell_type": "code",
   "execution_count": null,
   "metadata": {},
   "outputs": [],
   "source": [
    "df1 = df[df['RoadName']=='中華南路二段(金華路一段>德興路)']\n",
    "df1.head(10)"
   ]
  },
  {
   "cell_type": "code",
   "execution_count": null,
   "metadata": {},
   "outputs": [],
   "source": [
    "df2 = df1.compute()"
   ]
  },
  {
   "cell_type": "code",
   "execution_count": null,
   "metadata": {},
   "outputs": [],
   "source": [
    "df1 = df1[['time', 'speed']]\n",
    "display(df1.tail(5))"
   ]
  },
  {
   "cell_type": "code",
   "execution_count": null,
   "metadata": {},
   "outputs": [],
   "source": [
    "df.RoadName.value_counts().compute()"
   ]
  },
  {
   "cell_type": "code",
   "execution_count": null,
   "metadata": {},
   "outputs": [],
   "source": []
  },
  {
   "cell_type": "code",
   "execution_count": null,
   "metadata": {},
   "outputs": [],
   "source": [
    "def blocks(files, size=65536):\n",
    "    while True:\n",
    "        b = files.read(size)\n",
    "        if not b: break\n",
    "        yield b\n",
    "\n",
    "with open('/Users/bluekidds/Downloads/tn_data/IISIRoadMOE.txt',\"r\", errors='replace') as f:\n",
    "    print(sum(bl.count(\"\\n\") for bl in blocks(f)))"
   ]
  },
  {
   "cell_type": "code",
   "execution_count": null,
   "metadata": {},
   "outputs": [],
   "source": [
    "!pip install pyarrow"
   ]
  },
  {
   "cell_type": "code",
   "execution_count": null,
   "metadata": {},
   "outputs": [],
   "source": [
    "import pyarrow.parquet as pq\n",
    "import pyarrow as pa"
   ]
  },
  {
   "cell_type": "code",
   "execution_count": null,
   "metadata": {},
   "outputs": [],
   "source": [
    "input_file = open('/Users/bluekidds/Downloads/tn_data/IISIRoadMOE.txt', errors='replace')\n",
    "#output_file = open('output.txt','w')\n",
    "place_list = []\n",
    "for lines in range(20):\n",
    "    line = input_file.readline()\n",
    "    \n",
    "    line_list = line.split()\n",
    "    \n",
    "    place_list.append(','.join([line_list[0], line_list[1],line_list[3]+' '+line_list[4], line_list[7]]))\n",
    "    #print(\" \".join(line.split()))\n",
    "\n",
    "    #print(line.split(), len(line.split()))\n",
    "    #output_file.write(line)\n",
    "\n",
    "small_df = pd.DataFrame(place_list)\n",
    "table = pa.Table.from_pandas(small_df)\n",
    "#with open('IISIRoadMOE_Processed.txt', 'w') as filehandle:\n",
    "    #filehandle.writelines(\"%s\\n\" % place for place in place_list)\n",
    "pq.write_table(table, 'example.parquet')    \n",
    "#with open('/Users/bluekidds/Downloads/tn_data/IISIRoadMOE.txt', errors='replace') as f:\n",
    "#    full_lines = f.readlines()\n",
    "\n",
    "# parse full lines to get the text to right of \"-\"\n",
    "#sample_num = 10\n",
    "input_file.close()\n",
    "\n",
    "#for i in range(sample_num):\n",
    "#    print(\" \".join(full_lines[i].split()))"
   ]
  },
  {
   "cell_type": "code",
   "execution_count": null,
   "metadata": {},
   "outputs": [],
   "source": [
    "new_df = pd.read_parquet('example.parquet')\n",
    "display(new_df.head())"
   ]
  },
  {
   "cell_type": "code",
   "execution_count": null,
   "metadata": {},
   "outputs": [],
   "source": [
    "def istimecheck(time):\n",
    "    timeformat = \"%Y-%m-%d %H:%M:%S.%f\"\n",
    "    \n",
    "    try:\n",
    "        validtime = datetime.datetime.strptime(time, timeformat)\n",
    "        return True\n",
    "        #Do your logic with validtime, which is a valid format\n",
    "    except ValueError:\n",
    "        return False\n",
    "        #Do your logic for invalid format (maybe print some message?)."
   ]
  },
  {
   "cell_type": "code",
   "execution_count": null,
   "metadata": {},
   "outputs": [],
   "source": [
    "import logging\n",
    "\n",
    "#logging.basicConfig(level=logging.info, file='errors.log')\n",
    "logging.basicConfig(filename='errors.log',level=logging.DEBUG)"
   ]
  },
  {
   "cell_type": "code",
   "execution_count": null,
   "metadata": {},
   "outputs": [],
   "source": [
    "def ProcessLargeTextFile():\n",
    "    logging.basicConfig(filename='errors.log',level=logging.DEBUG)\n",
    "    bunchsize = 1000000     # Experiment with different sizes\n",
    "    bunch = []\n",
    "    start = time.time()\n",
    "    errors = 0\n",
    "    time_errors = 0\n",
    "    speed_errors = 0\n",
    "    with open('/Users/bluekidds/Downloads/tn_data/IISIRoadMOE.txt', errors='replace') as r, open(\"IISIRoadMOE_Processed.txt\", \"w\") as w:\n",
    "        for line in r:\n",
    "            line_list = line.split()\n",
    "            if len(line_list) < 8:\n",
    "                print('Error occur...')\n",
    "                print(line_list)\n",
    "                break\n",
    "            \n",
    "            my_time = line_list[3]+' '+line_list[4]\n",
    "            \n",
    "\n",
    "            if not istimecheck(my_time):\n",
    "                #print('Error detected when extracting time')\n",
    "                errors += 1\n",
    "                time_errors += 1\n",
    "                logging.error(\"Time format error:\" + my_time)\n",
    "                continue \n",
    "            if not line_list[5].replace('.','',1).isdigit():\n",
    "                if float(line_list[7]) == -1:\n",
    "                    pass\n",
    "                else:\n",
    "                    #print('Error detected when extracting speed')\n",
    "                    errors += 1\n",
    "                    speed_errors +=1\n",
    "                    logging.error(\"Speed format error:\" + line_list[5])\n",
    "                    continue\n",
    "                \n",
    "            bunch.append(','.join([line_list[0], line_list[1],line_list[3]+' '+line_list[4], line_list[5] + '\\n']))\n",
    "            \n",
    "            if len(bunch) == bunchsize:\n",
    "                print('Processed 1 million lines in: ' + str(time.time()-start))\n",
    "                print('Number of time errors accumulated: ' + str(time_errors))\n",
    "                print('Number of speed errors acucmulated: ' + str(speed_errors))\n",
    "                start = time.time()\n",
    "                w.writelines(bunch)\n",
    "                \n",
    "                bunch = []\n",
    "        w.writelines(bunch)\n",
    "        print('Total errors: ' + str(errors) + ' and Speed variable errors ' + str(speed_errors) + ' and Time variable errors: ' + str(time_errors))"
   ]
  },
  {
   "cell_type": "code",
   "execution_count": null,
   "metadata": {},
   "outputs": [],
   "source": [
    "ProcessLargeTextFile()"
   ]
  },
  {
   "cell_type": "code",
   "execution_count": null,
   "metadata": {},
   "outputs": [],
   "source": [
    "'15.63157894�368419'.replace('.','',1).isdigit()"
   ]
  },
  {
   "cell_type": "markdown",
   "metadata": {},
   "source": [
    "## Pipeline after processing data"
   ]
  },
  {
   "cell_type": "code",
   "execution_count": null,
   "metadata": {},
   "outputs": [],
   "source": [
    "!tail -15 IISIRoadMOE_Processed.txt"
   ]
  },
  {
   "cell_type": "code",
   "execution_count": null,
   "metadata": {},
   "outputs": [],
   "source": [
    "filename = 'IISIRoadMOE_Processed.txt'\n",
    "\n",
    "df = dd.read_csv(filename, header=None)\n",
    "display(df.head())"
   ]
  },
  {
   "cell_type": "code",
   "execution_count": null,
   "metadata": {},
   "outputs": [],
   "source": [
    "filename = 'IISIRoadMOE_Processed.txt'\n",
    "\n",
    "df = dd.read_csv(filename, header=None)\n",
    "display(df.head())"
   ]
  },
  {
   "cell_type": "code",
   "execution_count": null,
   "metadata": {},
   "outputs": [],
   "source": [
    "df = dd.read_csv(filename, header=None, error_bad_lines=False, usecols=[1,2,3])\n",
    "columns = ['RoadID','time', 'speed']\n",
    "df.columns = columns\n",
    "df['time']=dd.to_datetime(df['time'])\n",
    "display(df.head(10))"
   ]
  },
  {
   "cell_type": "code",
   "execution_count": null,
   "metadata": {},
   "outputs": [],
   "source": [
    "road_list = df['RoadID'].value_counts().compute()"
   ]
  },
  {
   "cell_type": "code",
   "execution_count": null,
   "metadata": {},
   "outputs": [],
   "source": [
    "road_ID_set = set(df['RoadID'])"
   ]
  },
  {
   "cell_type": "markdown",
   "metadata": {},
   "source": [
    "For these road lists, if the number of values is greater than 50000. use it.\n",
    "\n",
    "For each road, predict its last 2400 units using the past two months.\n",
    "\n",
    "1. Set each df\n",
    "2. Resample to 15 mins\n",
    "3. df to fbpro ['2019-03-01 00:00:00' : '2019-05-02 00:00:00']\n",
    "4. create_model(config)\n",
    "5. future = model.make_future_dataframe(periods=2400, freq='15T')\n",
    "6. forecast = model.predict(future)\n",
    "7. forecast[y_hat] ['2019-05-02 00:00:00:2019-05-29 00:00:00']"
   ]
  },
  {
   "cell_type": "code",
   "execution_count": null,
   "metadata": {},
   "outputs": [],
   "source": [
    "def create_model():\n",
    "    \n",
    "    \n",
    "    \n",
    "    model = Prophet(\n",
    "        daily_seasonality=False,\n",
    "        weekly_seasonality=False,\n",
    "        yearly_seasonality=False,\n",
    "        changepoint_prior_scale=0.02,\n",
    "    )\n",
    "    model.add_seasonality(\n",
    "        name='daily',\n",
    "        period=1,\n",
    "        fourier_order=16,\n",
    "        prior_scale=0.1,\n",
    "\n",
    "    )\n",
    "    model.add_seasonality(\n",
    "        name='weekly',\n",
    "        period=7,\n",
    "        fourier_order=2,\n",
    "        prior_scale=0.1,\n",
    "    )\n",
    "    return model"
   ]
  },
  {
   "cell_type": "code",
   "execution_count": null,
   "metadata": {},
   "outputs": [],
   "source": [
    "road_list_effective = list(road_list[road_list > 30000].keys())\n",
    "print(road_list_effective)"
   ]
  },
  {
   "cell_type": "code",
   "execution_count": null,
   "metadata": {},
   "outputs": [],
   "source": [
    "def process_all_sections(df, road_list_effective):\n",
    "    logging.basicConfig(filename='process_road_data.log',level=logging.DEBUG)\n",
    "    start = time.time()\n",
    "    for road_ID in road_list_effective:\n",
    "        logging.info('Processing road: %s', road_ID)\n",
    "        \n",
    "        df_local = df[df['RoadID']== road_ID][['time','speed']]\n",
    "        df_local= df_local.set_index('time')\n",
    "        #df_local = df_local.compute()\n",
    "        #if df_local.shape[0] < 30000:\n",
    "        #    logging.error(\"Data size insufficient in road : \" + road_ID + \" \" + str(df_local.shape[0]))\n",
    "        #    now = time.time()\n",
    "        #    print('Processed one road in: ' + str(now-start))\n",
    "        #    start = now\n",
    "        #    continue\n",
    "        df_resample = df_local.resample('15min').mean().compute()\n",
    "        \n",
    "        fb_df = df_to_fbpro(df_resample['2019-03-01 05:30:00' : '2019-05-01 05:30:00'])\n",
    "        \n",
    "        \n",
    "        \n",
    "        model = create_model()\n",
    "        model.fit(fb_df)\n",
    "        future = model.make_future_dataframe(periods=2400, freq='15T')\n",
    "        forecast = model.predict(future)\n",
    "        forecast[['ds', 'yhat']].to_json('forecast_output/' + '.'.join((road_ID, 'json')))\n",
    "        print('Finish ' + road_ID)\n",
    "        now = time.time()\n",
    "        print('Processed one road in: ' + str(now-start) + 's')\n",
    "        start = now"
   ]
  },
  {
   "cell_type": "code",
   "execution_count": null,
   "metadata": {},
   "outputs": [],
   "source": [
    "%%time\n",
    "df_L00770 = df[df['RoadID']== 'L00770'][['time','speed']]\n",
    "df_L00770= df_L00770.set_index('time')\n",
    "df_resample = df_L00770.resample('15min').mean()\n",
    "\n",
    "display(df_resample.head())"
   ]
  },
  {
   "cell_type": "code",
   "execution_count": null,
   "metadata": {},
   "outputs": [],
   "source": [
    "process_all_sections(df, road_list_effective)"
   ]
  },
  {
   "cell_type": "code",
   "execution_count": null,
   "metadata": {},
   "outputs": [],
   "source": [
    "df.head(10)['time']"
   ]
  },
  {
   "cell_type": "code",
   "execution_count": null,
   "metadata": {},
   "outputs": [],
   "source": [
    "#df1 = df[df['RoadID']=='L03072'][['time','speed']]\n",
    "\n",
    "df4 = df[df['RoadID']=='L00466'][['time','speed']]\n",
    "df4= df4.set_index('time')  \n",
    "\n",
    "#df1['time']=dd.to_datetime(df1['time'])\n",
    "#display(df1.head(10))\n",
    "\n"
   ]
  },
  {
   "cell_type": "code",
   "execution_count": null,
   "metadata": {},
   "outputs": [],
   "source": [
    "df4.c.shape"
   ]
  },
  {
   "cell_type": "code",
   "execution_count": null,
   "metadata": {},
   "outputs": [],
   "source": [
    "display(df1.loc['2019-03-15 00:00:00' : '2019-03-17 10:21:00'].compute())"
   ]
  },
  {
   "cell_type": "code",
   "execution_count": null,
   "metadata": {},
   "outputs": [],
   "source": [
    "from plotly.offline import download_plotlyjs, init_notebook_mode, plot, iplot\n",
    "from plotly.graph_objs import Scatter, Figure, Layout\n",
    "import plotly\n",
    "import plotly.graph_objs as go\n",
    "init_notebook_mode(connected=False)\n"
   ]
  },
  {
   "cell_type": "code",
   "execution_count": null,
   "metadata": {},
   "outputs": [],
   "source": [
    "#df1 = df1.compute()\n",
    "df4 = df4.compute()"
   ]
  },
  {
   "cell_type": "code",
   "execution_count": null,
   "metadata": {},
   "outputs": [],
   "source": [
    "\n",
    "\n",
    "#df3 = df1.resample('15min').mean()\n",
    "df5 = df4.resample('15min').mean()\n",
    "\n",
    "display(df5.head())"
   ]
  },
  {
   "cell_type": "code",
   "execution_count": null,
   "metadata": {},
   "outputs": [],
   "source": [
    "trace_fitted = go.Scatter(\n",
    "              x=df5.index,\n",
    "              y=df5.speed,\n",
    "              name = 'actuals')\n",
    "\n",
    "data = [trace_fitted]\n",
    "\n",
    "layout = go.Layout(\n",
    "    title='Actual Time Series Data in L00466',\n",
    "    xaxis=dict(title='Date'))\n",
    "fig = go.Figure(data=data, layout=layout)\n",
    "    \n",
    "iplot(fig)"
   ]
  },
  {
   "cell_type": "code",
   "execution_count": null,
   "metadata": {},
   "outputs": [],
   "source": [
    "trace_fitted = go.Scatter(\n",
    "              x=df3.index,\n",
    "              y=df3.speed,\n",
    "              name = 'actuals')\n",
    "\n",
    "data = [trace_fitted]\n",
    "\n",
    "layout = go.Layout(\n",
    "    title='Actual Time Series Data in L03072',\n",
    "    xaxis=dict(title='Date'))\n",
    "fig = go.Figure(data=data, layout=layout)\n",
    "    \n",
    "iplot(fig)"
   ]
  },
  {
   "cell_type": "code",
   "execution_count": null,
   "metadata": {},
   "outputs": [],
   "source": [
    "def df_to_fbpro(df):\n",
    "    if len(df.columns) == 1:\n",
    "        df = df.reset_index()\n",
    "    df.columns = ['ds', 'y']\n",
    "    return df\n",
    "        "
   ]
  },
  {
   "cell_type": "code",
   "execution_count": null,
   "metadata": {},
   "outputs": [],
   "source": [
    "fb_df = df_to_fbpro(df5['2019-03-01 05:30:00' : '2019-05-01 05:30:00'])\n",
    "display(fb_df.head())"
   ]
  },
  {
   "cell_type": "code",
   "execution_count": null,
   "metadata": {},
   "outputs": [],
   "source": [
    "fb_df_test = df_to_fbpro(df5['2019-05-01 05:30:00' : '2019-06-01 05:30:00'])\n",
    "display(fb_df_test.head())"
   ]
  },
  {
   "cell_type": "code",
   "execution_count": null,
   "metadata": {},
   "outputs": [],
   "source": [
    "df2.columns"
   ]
  },
  {
   "cell_type": "code",
   "execution_count": null,
   "metadata": {},
   "outputs": [],
   "source": [
    "m = Prophet()\n",
    "m.fit(fb_df)\n"
   ]
  },
  {
   "cell_type": "code",
   "execution_count": null,
   "metadata": {},
   "outputs": [],
   "source": [
    "model = Prophet(\n",
    "    daily_seasonality=False,\n",
    "    weekly_seasonality=False,\n",
    "    yearly_seasonality=False,\n",
    "    changepoint_prior_scale=0.02,\n",
    ")\n",
    "model.add_seasonality(\n",
    "    name='daily',\n",
    "    period=1,\n",
    "    fourier_order=16,\n",
    "    prior_scale=0.1,\n",
    "  \n",
    ")\n",
    "model.add_seasonality(\n",
    "    name='weekly',\n",
    "    period=7,\n",
    "    fourier_order=2,\n",
    "    prior_scale=0.1,\n",
    ")\n",
    "\n",
    "\n",
    "model.fit(fb_df);"
   ]
  },
  {
   "cell_type": "code",
   "execution_count": null,
   "metadata": {},
   "outputs": [],
   "source": [
    "fb_df.shape"
   ]
  },
  {
   "cell_type": "code",
   "execution_count": null,
   "metadata": {},
   "outputs": [],
   "source": [
    "#future = m.make_future_dataframe(periods=600, freq='H')\n",
    "#future.tail()\n",
    "\n",
    "future = model.make_future_dataframe(periods=2400, freq='15T')\n",
    "future.tail()"
   ]
  },
  {
   "cell_type": "code",
   "execution_count": null,
   "metadata": {},
   "outputs": [],
   "source": [
    "fb_df_test.tail()"
   ]
  },
  {
   "cell_type": "code",
   "execution_count": null,
   "metadata": {},
   "outputs": [],
   "source": [
    "forecast = model.predict(future)\n",
    "forecast[['ds', 'yhat', 'yhat_lower', 'yhat_upper']].tail()\n"
   ]
  },
  {
   "cell_type": "code",
   "execution_count": null,
   "metadata": {},
   "outputs": [],
   "source": [
    "fig2 = model.plot_components(forecast)\n"
   ]
  },
  {
   "cell_type": "code",
   "execution_count": null,
   "metadata": {},
   "outputs": [],
   "source": [
    "fig1 = model.plot(forecast)"
   ]
  },
  {
   "cell_type": "code",
   "execution_count": null,
   "metadata": {},
   "outputs": [],
   "source": [
    "forecast"
   ]
  },
  {
   "cell_type": "code",
   "execution_count": null,
   "metadata": {},
   "outputs": [],
   "source": [
    "fig, ax = plt.subplots(figsize=(20, 5))\n",
    "ax.plot(fb_df['ds'], fb_df['y'], c='black', marker='o', ms=3, linestyle='None', label='Train')\n",
    "ax.plot(fb_df_test['ds'], fb_df_test['y'], c='r', marker='o', ms=3, linestyle='None', label='Test')\n",
    "ax.plot(forecast['ds'], forecast['yhat'], c='b', marker='o', ms=3, linestyle='None', label='Forecast', alpha=0.5)\n",
    "ax.legend()\n",
    "ax.set_xlabel('Date')\n",
    "ax.set_ylabel('Speed');"
   ]
  },
  {
   "cell_type": "code",
   "execution_count": null,
   "metadata": {},
   "outputs": [],
   "source": [
    "fig, ax = plt.subplots(figsize=(20, 5))\n",
    "ax.plot(fb_df['ds'], fb_df['y'], c='black', marker='o', ms=3, linestyle='None', label='Train')\n",
    "ax.plot(fb_df_test['ds'], fb_df_test['y'], c='r', marker='o', ms=3, linestyle='None', label='Test')\n",
    "ax.plot(forecast['ds'], forecast['yhat'], c='b', marker='o', ms=3, linestyle='None', label='Forecast', alpha=0.5)\n",
    "ax.legend()\n",
    "ax.set_xlabel('Date')\n",
    "ax.set_ylabel('Speed');"
   ]
  },
  {
   "cell_type": "code",
   "execution_count": null,
   "metadata": {
    "scrolled": true
   },
   "outputs": [],
   "source": [
    "fig, ax = plt.subplots(figsize=(20, 5))\n",
    "ax.plot(fb_df['ds'], fb_df['y'], c='black', marker='o', ms=3, linestyle='None', label='Train')\n",
    "ax.plot(fb_df_test['ds'], fb_df_test['y'], c='r', marker='o', ms=3, linestyle='None', label='Test')\n",
    "ax.plot(forecast['ds'], forecast['yhat'], c='b', marker='o', ms=3, linestyle='None', label='Forecast', alpha=0.5)\n",
    "ax.legend()\n",
    "ax.set_xlabel('Date')\n",
    "ax.set_ylabel('Speed');"
   ]
  },
  {
   "cell_type": "code",
   "execution_count": null,
   "metadata": {},
   "outputs": [],
   "source": [
    "fig, ax = plt.subplots(figsize=(20, 5))\n",
    "ax.plot(fb_df['ds'], fb_df['y'], c='black', marker='o', ms=3, linestyle='None', label='Train')\n",
    "ax.plot(fb_df_test['ds'], fb_df_test['y'], c='r', marker='o', ms=3, linestyle='None', label='Test')\n",
    "ax.plot(forecast['ds'], forecast['yhat'], c='b', marker='o', ms=3, linestyle='None', label='Forecast', alpha=0.5)\n",
    "ax.legend()\n",
    "ax.set_xlabel('Date')\n",
    "ax.set_ylabel('Speed');"
   ]
  },
  {
   "cell_type": "markdown",
   "metadata": {},
   "source": [
    "## Cross-Validation"
   ]
  },
  {
   "cell_type": "code",
   "execution_count": null,
   "metadata": {},
   "outputs": [],
   "source": [
    "from fbprophet.diagnostics import cross_validation\n",
    "df_cv = cross_validation(model, initial='40 days', period='3 days', horizon = '10 days')\n",
    "df_cv.head()"
   ]
  },
  {
   "cell_type": "code",
   "execution_count": null,
   "metadata": {},
   "outputs": [],
   "source": []
  },
  {
   "cell_type": "code",
   "execution_count": null,
   "metadata": {},
   "outputs": [],
   "source": [
    "from fbprophet.diagnostics import performance_metrics\n",
    "df_p = performance_metrics(df_cv)\n",
    "df_p.head()"
   ]
  },
  {
   "cell_type": "code",
   "execution_count": null,
   "metadata": {},
   "outputs": [],
   "source": [
    "from fbprophet.plot import plot_cross_validation_metric\n",
    "fig = plot_cross_validation_metric(df_cv, metric='rmse')\n"
   ]
  },
  {
   "cell_type": "markdown",
   "metadata": {},
   "source": [
    "## Add holiday effects(Not supporting Taiwan)"
   ]
  },
  {
   "cell_type": "code",
   "execution_count": 3,
   "metadata": {},
   "outputs": [],
   "source": [
    "import folium\n",
    "import folium.plugins as plugins\n",
    "import numpy as np\n",
    "\n",
    "#m.fit(df)"
   ]
  },
  {
   "cell_type": "code",
   "execution_count": null,
   "metadata": {},
   "outputs": [],
   "source": [
    "!pip install folium"
   ]
  },
  {
   "cell_type": "code",
   "execution_count": null,
   "metadata": {},
   "outputs": [],
   "source": [
    "import folium\n",
    "import folium.plugins as plugins\n",
    "import numpy as np\n",
    "\n",
    "np.random.seed(3141592)\n",
    "initial_data = (\n",
    "    np.random.normal(size=(100, 2)) * np.array([[1, 1]]) +\n",
    "    np.array([[48, 5]])\n",
    ")\n",
    "\n",
    "move_data = np.random.normal(size=(100, 2)) * 0.01\n",
    "\n",
    "data = [(initial_data + move_data * i).tolist() for i in range(100)]\n",
    "\n",
    "weight = 1  # default value\n",
    "for time_entry in data:\n",
    "    for row in time_entry:\n",
    "        row.append(weight)"
   ]
  },
  {
   "cell_type": "code",
   "execution_count": null,
   "metadata": {},
   "outputs": [],
   "source": [
    "m = folium.Map(\n",
    "    location=[35.68159659061569, 139.76451516151428],\n",
    "    zoom_start=16\n",
    ")\n",
    "\n",
    "# Lon, Lat order.\n",
    "lines = [\n",
    "    {\n",
    "        'coordinates': [\n",
    "            [139.76451516151428, 35.68159659061569],\n",
    "            [139.75964426994324, 35.682590062684206],\n",
    "        ],\n",
    "        'dates': [\n",
    "            '2017-06-02T00:00:00',\n",
    "            '2017-06-02T00:10:00'\n",
    "        ],\n",
    "        'color': 'red'\n",
    "    },\n",
    "    {\n",
    "        'coordinates': [\n",
    "            [139.75964426994324, 35.682590062684206],\n",
    "            [139.7575843334198, 35.679505030038506],\n",
    "        ],\n",
    "        'dates': [\n",
    "            '2017-06-02T00:10:00',\n",
    "            '2017-06-02T00:20:00'\n",
    "        ],\n",
    "        'color': 'blue'\n",
    "    },\n",
    "    {\n",
    "        'coordinates': [\n",
    "            [139.7575843334198, 35.679505030038506],\n",
    "            [139.76337790489197, 35.678040905014065],\n",
    "        ],\n",
    "        'dates': [\n",
    "            '2017-06-02T00:20:00',\n",
    "            '2017-06-02T00:30:00'\n",
    "        ],\n",
    "        'color': 'green',\n",
    "        'weight': 15,\n",
    "    },\n",
    "    {\n",
    "        'coordinates': [\n",
    "            [139.76337790489197, 35.678040905014065],\n",
    "            [139.76451516151428, 35.68159659061569],\n",
    "        ],\n",
    "        'dates': [\n",
    "            '2017-06-02T00:30:00',\n",
    "            '2017-06-02T00:40:00'\n",
    "        ],\n",
    "        'color': '#FFFFFF',\n",
    "    },\n",
    "]\n",
    "\n",
    "features = [\n",
    "    {\n",
    "        'type': 'Feature',\n",
    "        'geometry': {\n",
    "            'type': 'LineString',\n",
    "            'coordinates': line['coordinates'],\n",
    "        },\n",
    "        'properties': {\n",
    "            'times': line['dates'],\n",
    "            'style': {\n",
    "                'color': line['color'],\n",
    "                'weight': line['weight'] if 'weight' in line else 5\n",
    "            }\n",
    "        }\n",
    "    }\n",
    "    for line in lines\n",
    "]\n",
    "\n",
    "plugins.TimestampedGeoJson({\n",
    "    'type': 'FeatureCollection',\n",
    "    'features': features,\n",
    "}, period='PT1M', add_last_point=True).add_to(m)\n",
    "m"
   ]
  },
  {
   "cell_type": "code",
   "execution_count": 2,
   "metadata": {},
   "outputs": [
    {
     "ename": "NameError",
     "evalue": "name 'data' is not defined",
     "output_type": "error",
     "traceback": [
      "\u001b[0;31m---------------------------------------------------------------------------\u001b[0m",
      "\u001b[0;31mNameError\u001b[0m                                 Traceback (most recent call last)",
      "\u001b[0;32m<ipython-input-2-60b59434f9be>\u001b[0m in \u001b[0;36m<module>\u001b[0;34m\u001b[0m\n\u001b[1;32m      4\u001b[0m time_index = [\n\u001b[1;32m      5\u001b[0m     \u001b[0;34m(\u001b[0m\u001b[0mdatetime\u001b[0m\u001b[0;34m.\u001b[0m\u001b[0mnow\u001b[0m\u001b[0;34m(\u001b[0m\u001b[0;34m)\u001b[0m \u001b[0;34m+\u001b[0m \u001b[0mk\u001b[0m \u001b[0;34m*\u001b[0m \u001b[0mtimedelta\u001b[0m\u001b[0;34m(\u001b[0m\u001b[0;36m1\u001b[0m\u001b[0;34m)\u001b[0m\u001b[0;34m)\u001b[0m\u001b[0;34m.\u001b[0m\u001b[0mstrftime\u001b[0m\u001b[0;34m(\u001b[0m\u001b[0;34m'%Y-%m-%d'\u001b[0m\u001b[0;34m)\u001b[0m \u001b[0;32mfor\u001b[0m\u001b[0;34m\u001b[0m\u001b[0;34m\u001b[0m\u001b[0m\n\u001b[0;32m----> 6\u001b[0;31m     \u001b[0mk\u001b[0m \u001b[0;32min\u001b[0m \u001b[0mrange\u001b[0m\u001b[0;34m(\u001b[0m\u001b[0mlen\u001b[0m\u001b[0;34m(\u001b[0m\u001b[0mdata\u001b[0m\u001b[0;34m)\u001b[0m\u001b[0;34m)\u001b[0m\u001b[0;34m\u001b[0m\u001b[0;34m\u001b[0m\u001b[0m\n\u001b[0m\u001b[1;32m      7\u001b[0m ]\n",
      "\u001b[0;31mNameError\u001b[0m: name 'data' is not defined"
     ]
    }
   ],
   "source": [
    "from datetime import datetime, timedelta\n",
    "\n",
    "\n",
    "time_index = [\n",
    "    (datetime.now() + k * timedelta(1)).strftime('%Y-%m-%d') for\n",
    "    k in range(len(data))\n",
    "]"
   ]
  },
  {
   "cell_type": "markdown",
   "metadata": {},
   "source": [
    "* Time_index is a list of datetime objects\n",
    "* data is a list of list of coordinates"
   ]
  },
  {
   "cell_type": "code",
   "execution_count": null,
   "metadata": {},
   "outputs": [],
   "source": [
    "data[1][0]"
   ]
  },
  {
   "cell_type": "code",
   "execution_count": null,
   "metadata": {},
   "outputs": [],
   "source": [
    "display(len(data), len(data[0]))"
   ]
  },
  {
   "cell_type": "markdown",
   "metadata": {},
   "source": [
    "## Visualize Traffic Data"
   ]
  },
  {
   "cell_type": "code",
   "execution_count": 3,
   "metadata": {},
   "outputs": [],
   "source": [
    "from glob import glob\n",
    "\n",
    "file_paths = glob('forecast_output/*.json')\n"
   ]
  },
  {
   "cell_type": "code",
   "execution_count": 10,
   "metadata": {},
   "outputs": [
    {
     "data": {
      "text/html": [
       "<div>\n",
       "<style scoped>\n",
       "    .dataframe tbody tr th:only-of-type {\n",
       "        vertical-align: middle;\n",
       "    }\n",
       "\n",
       "    .dataframe tbody tr th {\n",
       "        vertical-align: top;\n",
       "    }\n",
       "\n",
       "    .dataframe thead th {\n",
       "        text-align: right;\n",
       "    }\n",
       "</style>\n",
       "<table border=\"1\" class=\"dataframe\">\n",
       "  <thead>\n",
       "    <tr style=\"text-align: right;\">\n",
       "      <th></th>\n",
       "      <th>L04891</th>\n",
       "      <th>L09870</th>\n",
       "      <th>L01543</th>\n",
       "      <th>L06286</th>\n",
       "      <th>L01144</th>\n",
       "      <th>L05107</th>\n",
       "      <th>L05042</th>\n",
       "      <th>L01294</th>\n",
       "      <th>L00190</th>\n",
       "      <th>L02284</th>\n",
       "      <th>L01152</th>\n",
       "      <th>L00082</th>\n",
       "      <th>L01693</th>\n",
       "      <th>L03587</th>\n",
       "      <th>L01312</th>\n",
       "      <th>...</th>\n",
       "      <th>L05811</th>\n",
       "      <th>L06913</th>\n",
       "      <th>L04241</th>\n",
       "      <th>L05145</th>\n",
       "      <th>L04304</th>\n",
       "      <th>L01556</th>\n",
       "      <th>L00500</th>\n",
       "      <th>L98066</th>\n",
       "      <th>L07416</th>\n",
       "      <th>L04152</th>\n",
       "      <th>L03382</th>\n",
       "      <th>L04017</th>\n",
       "      <th>L04294</th>\n",
       "      <th>L05893</th>\n",
       "      <th>L05201</th>\n",
       "    </tr>\n",
       "    <tr>\n",
       "      <th>time</th>\n",
       "      <th></th>\n",
       "      <th></th>\n",
       "      <th></th>\n",
       "      <th></th>\n",
       "      <th></th>\n",
       "      <th></th>\n",
       "      <th></th>\n",
       "      <th></th>\n",
       "      <th></th>\n",
       "      <th></th>\n",
       "      <th></th>\n",
       "      <th></th>\n",
       "      <th></th>\n",
       "      <th></th>\n",
       "      <th></th>\n",
       "      <th></th>\n",
       "      <th></th>\n",
       "      <th></th>\n",
       "      <th></th>\n",
       "      <th></th>\n",
       "      <th></th>\n",
       "      <th></th>\n",
       "      <th></th>\n",
       "      <th></th>\n",
       "      <th></th>\n",
       "      <th></th>\n",
       "      <th></th>\n",
       "      <th></th>\n",
       "      <th></th>\n",
       "      <th></th>\n",
       "      <th></th>\n",
       "    </tr>\n",
       "  </thead>\n",
       "  <tbody>\n",
       "    <tr>\n",
       "      <th>1.551420e+09</th>\n",
       "      <td>35.134963</td>\n",
       "      <td>40.085713</td>\n",
       "      <td>NaN</td>\n",
       "      <td>NaN</td>\n",
       "      <td>37.840989</td>\n",
       "      <td>NaN</td>\n",
       "      <td>40.093677</td>\n",
       "      <td>39.205644</td>\n",
       "      <td>30.599845</td>\n",
       "      <td>39.383541</td>\n",
       "      <td>NaN</td>\n",
       "      <td>NaN</td>\n",
       "      <td>NaN</td>\n",
       "      <td>NaN</td>\n",
       "      <td>NaN</td>\n",
       "      <td>...</td>\n",
       "      <td>NaN</td>\n",
       "      <td>31.488935</td>\n",
       "      <td>31.642293</td>\n",
       "      <td>29.726891</td>\n",
       "      <td>35.321547</td>\n",
       "      <td>NaN</td>\n",
       "      <td>35.607722</td>\n",
       "      <td>NaN</td>\n",
       "      <td>NaN</td>\n",
       "      <td>NaN</td>\n",
       "      <td>NaN</td>\n",
       "      <td>NaN</td>\n",
       "      <td>33.862173</td>\n",
       "      <td>NaN</td>\n",
       "      <td>NaN</td>\n",
       "    </tr>\n",
       "    <tr>\n",
       "      <th>1.551421e+09</th>\n",
       "      <td>34.743706</td>\n",
       "      <td>37.282718</td>\n",
       "      <td>36.729523</td>\n",
       "      <td>NaN</td>\n",
       "      <td>36.071935</td>\n",
       "      <td>31.545508</td>\n",
       "      <td>39.244258</td>\n",
       "      <td>34.791920</td>\n",
       "      <td>27.670525</td>\n",
       "      <td>37.856298</td>\n",
       "      <td>40.562759</td>\n",
       "      <td>NaN</td>\n",
       "      <td>32.596429</td>\n",
       "      <td>40.046824</td>\n",
       "      <td>34.751048</td>\n",
       "      <td>...</td>\n",
       "      <td>37.286573</td>\n",
       "      <td>32.539932</td>\n",
       "      <td>31.365265</td>\n",
       "      <td>30.417444</td>\n",
       "      <td>42.713888</td>\n",
       "      <td>35.687719</td>\n",
       "      <td>32.610254</td>\n",
       "      <td>NaN</td>\n",
       "      <td>NaN</td>\n",
       "      <td>34.474472</td>\n",
       "      <td>NaN</td>\n",
       "      <td>NaN</td>\n",
       "      <td>37.286859</td>\n",
       "      <td>38.009808</td>\n",
       "      <td>NaN</td>\n",
       "    </tr>\n",
       "    <tr>\n",
       "      <th>1.551422e+09</th>\n",
       "      <td>35.198855</td>\n",
       "      <td>38.011871</td>\n",
       "      <td>36.333911</td>\n",
       "      <td>35.488701</td>\n",
       "      <td>35.613133</td>\n",
       "      <td>31.223235</td>\n",
       "      <td>37.757226</td>\n",
       "      <td>32.528805</td>\n",
       "      <td>25.905566</td>\n",
       "      <td>37.424585</td>\n",
       "      <td>38.259191</td>\n",
       "      <td>NaN</td>\n",
       "      <td>32.647351</td>\n",
       "      <td>38.736527</td>\n",
       "      <td>31.741832</td>\n",
       "      <td>...</td>\n",
       "      <td>36.560167</td>\n",
       "      <td>32.628594</td>\n",
       "      <td>31.891656</td>\n",
       "      <td>31.509045</td>\n",
       "      <td>44.083700</td>\n",
       "      <td>35.730590</td>\n",
       "      <td>32.647672</td>\n",
       "      <td>NaN</td>\n",
       "      <td>33.636132</td>\n",
       "      <td>30.993492</td>\n",
       "      <td>NaN</td>\n",
       "      <td>30.505382</td>\n",
       "      <td>38.871570</td>\n",
       "      <td>38.150128</td>\n",
       "      <td>27.135176</td>\n",
       "    </tr>\n",
       "    <tr>\n",
       "      <th>1.551423e+09</th>\n",
       "      <td>35.753885</td>\n",
       "      <td>39.515138</td>\n",
       "      <td>35.683941</td>\n",
       "      <td>35.654141</td>\n",
       "      <td>36.317611</td>\n",
       "      <td>30.819836</td>\n",
       "      <td>36.971192</td>\n",
       "      <td>32.867365</td>\n",
       "      <td>25.571772</td>\n",
       "      <td>37.952419</td>\n",
       "      <td>36.544864</td>\n",
       "      <td>33.507180</td>\n",
       "      <td>31.973629</td>\n",
       "      <td>38.064815</td>\n",
       "      <td>29.550972</td>\n",
       "      <td>...</td>\n",
       "      <td>36.655475</td>\n",
       "      <td>31.577425</td>\n",
       "      <td>32.837938</td>\n",
       "      <td>31.872184</td>\n",
       "      <td>41.391144</td>\n",
       "      <td>34.298342</td>\n",
       "      <td>35.377237</td>\n",
       "      <td>NaN</td>\n",
       "      <td>33.303644</td>\n",
       "      <td>28.303780</td>\n",
       "      <td>NaN</td>\n",
       "      <td>30.645780</td>\n",
       "      <td>38.878773</td>\n",
       "      <td>39.714068</td>\n",
       "      <td>29.413497</td>\n",
       "    </tr>\n",
       "    <tr>\n",
       "      <th>1.551424e+09</th>\n",
       "      <td>36.035648</td>\n",
       "      <td>39.705286</td>\n",
       "      <td>35.553426</td>\n",
       "      <td>36.302840</td>\n",
       "      <td>37.296786</td>\n",
       "      <td>29.646012</td>\n",
       "      <td>37.274344</td>\n",
       "      <td>34.481275</td>\n",
       "      <td>25.656125</td>\n",
       "      <td>38.771818</td>\n",
       "      <td>35.803762</td>\n",
       "      <td>33.131247</td>\n",
       "      <td>31.646226</td>\n",
       "      <td>37.953408</td>\n",
       "      <td>29.145283</td>\n",
       "      <td>...</td>\n",
       "      <td>36.282938</td>\n",
       "      <td>29.995966</td>\n",
       "      <td>33.730365</td>\n",
       "      <td>31.459479</td>\n",
       "      <td>38.044115</td>\n",
       "      <td>33.085353</td>\n",
       "      <td>38.609206</td>\n",
       "      <td>NaN</td>\n",
       "      <td>31.862805</td>\n",
       "      <td>26.866304</td>\n",
       "      <td>31.821528</td>\n",
       "      <td>30.822450</td>\n",
       "      <td>38.332764</td>\n",
       "      <td>41.073771</td>\n",
       "      <td>30.116905</td>\n",
       "    </tr>\n",
       "  </tbody>\n",
       "</table>\n",
       "<p>5 rows × 363 columns</p>\n",
       "</div>"
      ],
      "text/plain": [
       "                 L04891     L09870     L01543     L06286     L01144  \\\n",
       "time                                                                  \n",
       "1.551420e+09  35.134963  40.085713        NaN        NaN  37.840989   \n",
       "1.551421e+09  34.743706  37.282718  36.729523        NaN  36.071935   \n",
       "1.551422e+09  35.198855  38.011871  36.333911  35.488701  35.613133   \n",
       "1.551423e+09  35.753885  39.515138  35.683941  35.654141  36.317611   \n",
       "1.551424e+09  36.035648  39.705286  35.553426  36.302840  37.296786   \n",
       "\n",
       "                 L05107     L05042     L01294     L00190     L02284  \\\n",
       "time                                                                  \n",
       "1.551420e+09        NaN  40.093677  39.205644  30.599845  39.383541   \n",
       "1.551421e+09  31.545508  39.244258  34.791920  27.670525  37.856298   \n",
       "1.551422e+09  31.223235  37.757226  32.528805  25.905566  37.424585   \n",
       "1.551423e+09  30.819836  36.971192  32.867365  25.571772  37.952419   \n",
       "1.551424e+09  29.646012  37.274344  34.481275  25.656125  38.771818   \n",
       "\n",
       "                 L01152     L00082     L01693     L03587     L01312  ...  \\\n",
       "time                                                                 ...   \n",
       "1.551420e+09        NaN        NaN        NaN        NaN        NaN  ...   \n",
       "1.551421e+09  40.562759        NaN  32.596429  40.046824  34.751048  ...   \n",
       "1.551422e+09  38.259191        NaN  32.647351  38.736527  31.741832  ...   \n",
       "1.551423e+09  36.544864  33.507180  31.973629  38.064815  29.550972  ...   \n",
       "1.551424e+09  35.803762  33.131247  31.646226  37.953408  29.145283  ...   \n",
       "\n",
       "                 L05811     L06913     L04241     L05145     L04304  \\\n",
       "time                                                                  \n",
       "1.551420e+09        NaN  31.488935  31.642293  29.726891  35.321547   \n",
       "1.551421e+09  37.286573  32.539932  31.365265  30.417444  42.713888   \n",
       "1.551422e+09  36.560167  32.628594  31.891656  31.509045  44.083700   \n",
       "1.551423e+09  36.655475  31.577425  32.837938  31.872184  41.391144   \n",
       "1.551424e+09  36.282938  29.995966  33.730365  31.459479  38.044115   \n",
       "\n",
       "                 L01556     L00500  L98066     L07416     L04152     L03382  \\\n",
       "time                                                                          \n",
       "1.551420e+09        NaN  35.607722     NaN        NaN        NaN        NaN   \n",
       "1.551421e+09  35.687719  32.610254     NaN        NaN  34.474472        NaN   \n",
       "1.551422e+09  35.730590  32.647672     NaN  33.636132  30.993492        NaN   \n",
       "1.551423e+09  34.298342  35.377237     NaN  33.303644  28.303780        NaN   \n",
       "1.551424e+09  33.085353  38.609206     NaN  31.862805  26.866304  31.821528   \n",
       "\n",
       "                 L04017     L04294     L05893     L05201  \n",
       "time                                                      \n",
       "1.551420e+09        NaN  33.862173        NaN        NaN  \n",
       "1.551421e+09        NaN  37.286859  38.009808        NaN  \n",
       "1.551422e+09  30.505382  38.871570  38.150128  27.135176  \n",
       "1.551423e+09  30.645780  38.878773  39.714068  29.413497  \n",
       "1.551424e+09  30.822450  38.332764  41.073771  30.116905  \n",
       "\n",
       "[5 rows x 363 columns]"
      ]
     },
     "metadata": {},
     "output_type": "display_data"
    }
   ],
   "source": [
    "forecast_df = pd.read_json(file_paths[0])\n",
    "location_id = file_paths[0].split('/')[1].split('.')[0]\n",
    "forecast_df.columns = ['time',location_id]\n",
    "forecast_df['time'] = forecast_df['time'] / 1000\n",
    "forecast_df.set_index('time', inplace=True)\n",
    "for file_path in file_paths[1:]:\n",
    "    location_name = file_path.split('/')[1].split('.')[0]\n",
    "    local_df = pd.read_json(file_path)\n",
    "    local_df.columns = ['time',location_name]\n",
    "    local_df['time'] = local_df['time'] / 1000\n",
    "    local_df.set_index('time', inplace=True)\n",
    "    #display(local_df.head())\n",
    "    #local_df.index = pd.to_datetime(local_df.index)\n",
    "    forecast_df = pd.merge(forecast_df, local_df, how='outer', on='time')\n",
    "    #forecast_df = forecast_df.join(local_df, how='outer')\n",
    "    #print(location_name, file_path)\n",
    "#file_paths[0].split('/')[1].split('.')[0]\n",
    "\n",
    "\n",
    "display(forecast_df.head())"
   ]
  },
  {
   "cell_type": "code",
   "execution_count": 4,
   "metadata": {},
   "outputs": [
    {
     "data": {
      "text/html": [
       "<div>\n",
       "<style scoped>\n",
       "    .dataframe tbody tr th:only-of-type {\n",
       "        vertical-align: middle;\n",
       "    }\n",
       "\n",
       "    .dataframe tbody tr th {\n",
       "        vertical-align: top;\n",
       "    }\n",
       "\n",
       "    .dataframe thead th {\n",
       "        text-align: right;\n",
       "    }\n",
       "</style>\n",
       "<table border=\"1\" class=\"dataframe\">\n",
       "  <thead>\n",
       "    <tr style=\"text-align: right;\">\n",
       "      <th></th>\n",
       "      <th>L05201_x</th>\n",
       "      <th>L09870</th>\n",
       "      <th>L01543</th>\n",
       "      <th>L06286</th>\n",
       "      <th>L01144</th>\n",
       "      <th>L05107</th>\n",
       "      <th>L05042</th>\n",
       "      <th>L01294</th>\n",
       "      <th>L00190</th>\n",
       "      <th>L02284</th>\n",
       "      <th>L01152</th>\n",
       "      <th>L00082</th>\n",
       "      <th>L01693</th>\n",
       "      <th>L03587</th>\n",
       "      <th>L01312</th>\n",
       "      <th>...</th>\n",
       "      <th>L05811</th>\n",
       "      <th>L06913</th>\n",
       "      <th>L04241</th>\n",
       "      <th>L05145</th>\n",
       "      <th>L04304</th>\n",
       "      <th>L01556</th>\n",
       "      <th>L00500</th>\n",
       "      <th>L98066</th>\n",
       "      <th>L07416</th>\n",
       "      <th>L04152</th>\n",
       "      <th>L03382</th>\n",
       "      <th>L04017</th>\n",
       "      <th>L04294</th>\n",
       "      <th>L05893</th>\n",
       "      <th>L05201_y</th>\n",
       "    </tr>\n",
       "    <tr>\n",
       "      <th>time</th>\n",
       "      <th></th>\n",
       "      <th></th>\n",
       "      <th></th>\n",
       "      <th></th>\n",
       "      <th></th>\n",
       "      <th></th>\n",
       "      <th></th>\n",
       "      <th></th>\n",
       "      <th></th>\n",
       "      <th></th>\n",
       "      <th></th>\n",
       "      <th></th>\n",
       "      <th></th>\n",
       "      <th></th>\n",
       "      <th></th>\n",
       "      <th></th>\n",
       "      <th></th>\n",
       "      <th></th>\n",
       "      <th></th>\n",
       "      <th></th>\n",
       "      <th></th>\n",
       "      <th></th>\n",
       "      <th></th>\n",
       "      <th></th>\n",
       "      <th></th>\n",
       "      <th></th>\n",
       "      <th></th>\n",
       "      <th></th>\n",
       "      <th></th>\n",
       "      <th></th>\n",
       "      <th></th>\n",
       "    </tr>\n",
       "  </thead>\n",
       "  <tbody>\n",
       "    <tr>\n",
       "      <th>2019-03-01 06:00:00</th>\n",
       "      <td>35.134963</td>\n",
       "      <td>40.085713</td>\n",
       "      <td>NaN</td>\n",
       "      <td>NaN</td>\n",
       "      <td>37.840989</td>\n",
       "      <td>NaN</td>\n",
       "      <td>40.093677</td>\n",
       "      <td>39.205644</td>\n",
       "      <td>30.599845</td>\n",
       "      <td>39.383541</td>\n",
       "      <td>NaN</td>\n",
       "      <td>NaN</td>\n",
       "      <td>NaN</td>\n",
       "      <td>NaN</td>\n",
       "      <td>NaN</td>\n",
       "      <td>...</td>\n",
       "      <td>NaN</td>\n",
       "      <td>31.488935</td>\n",
       "      <td>31.642293</td>\n",
       "      <td>29.726891</td>\n",
       "      <td>35.321547</td>\n",
       "      <td>NaN</td>\n",
       "      <td>35.607722</td>\n",
       "      <td>NaN</td>\n",
       "      <td>NaN</td>\n",
       "      <td>NaN</td>\n",
       "      <td>NaN</td>\n",
       "      <td>NaN</td>\n",
       "      <td>33.862173</td>\n",
       "      <td>NaN</td>\n",
       "      <td>NaN</td>\n",
       "    </tr>\n",
       "    <tr>\n",
       "      <th>2019-03-01 06:15:00</th>\n",
       "      <td>34.743706</td>\n",
       "      <td>37.282718</td>\n",
       "      <td>36.729523</td>\n",
       "      <td>NaN</td>\n",
       "      <td>36.071935</td>\n",
       "      <td>31.545508</td>\n",
       "      <td>39.244258</td>\n",
       "      <td>34.791920</td>\n",
       "      <td>27.670525</td>\n",
       "      <td>37.856298</td>\n",
       "      <td>40.562759</td>\n",
       "      <td>NaN</td>\n",
       "      <td>32.596429</td>\n",
       "      <td>40.046824</td>\n",
       "      <td>34.751048</td>\n",
       "      <td>...</td>\n",
       "      <td>37.286573</td>\n",
       "      <td>32.539932</td>\n",
       "      <td>31.365265</td>\n",
       "      <td>30.417444</td>\n",
       "      <td>42.713888</td>\n",
       "      <td>35.687719</td>\n",
       "      <td>32.610254</td>\n",
       "      <td>NaN</td>\n",
       "      <td>NaN</td>\n",
       "      <td>34.474472</td>\n",
       "      <td>NaN</td>\n",
       "      <td>NaN</td>\n",
       "      <td>37.286859</td>\n",
       "      <td>38.009808</td>\n",
       "      <td>NaN</td>\n",
       "    </tr>\n",
       "    <tr>\n",
       "      <th>2019-03-01 06:30:00</th>\n",
       "      <td>35.198855</td>\n",
       "      <td>38.011871</td>\n",
       "      <td>36.333911</td>\n",
       "      <td>35.488701</td>\n",
       "      <td>35.613133</td>\n",
       "      <td>31.223235</td>\n",
       "      <td>37.757226</td>\n",
       "      <td>32.528805</td>\n",
       "      <td>25.905566</td>\n",
       "      <td>37.424585</td>\n",
       "      <td>38.259191</td>\n",
       "      <td>NaN</td>\n",
       "      <td>32.647351</td>\n",
       "      <td>38.736527</td>\n",
       "      <td>31.741832</td>\n",
       "      <td>...</td>\n",
       "      <td>36.560167</td>\n",
       "      <td>32.628594</td>\n",
       "      <td>31.891656</td>\n",
       "      <td>31.509045</td>\n",
       "      <td>44.083700</td>\n",
       "      <td>35.730590</td>\n",
       "      <td>32.647672</td>\n",
       "      <td>NaN</td>\n",
       "      <td>33.636132</td>\n",
       "      <td>30.993492</td>\n",
       "      <td>NaN</td>\n",
       "      <td>30.505382</td>\n",
       "      <td>38.871570</td>\n",
       "      <td>38.150128</td>\n",
       "      <td>27.135176</td>\n",
       "    </tr>\n",
       "    <tr>\n",
       "      <th>2019-03-01 06:45:00</th>\n",
       "      <td>35.753885</td>\n",
       "      <td>39.515138</td>\n",
       "      <td>35.683941</td>\n",
       "      <td>35.654141</td>\n",
       "      <td>36.317611</td>\n",
       "      <td>30.819836</td>\n",
       "      <td>36.971192</td>\n",
       "      <td>32.867365</td>\n",
       "      <td>25.571772</td>\n",
       "      <td>37.952419</td>\n",
       "      <td>36.544864</td>\n",
       "      <td>33.507180</td>\n",
       "      <td>31.973629</td>\n",
       "      <td>38.064815</td>\n",
       "      <td>29.550972</td>\n",
       "      <td>...</td>\n",
       "      <td>36.655475</td>\n",
       "      <td>31.577425</td>\n",
       "      <td>32.837938</td>\n",
       "      <td>31.872184</td>\n",
       "      <td>41.391144</td>\n",
       "      <td>34.298342</td>\n",
       "      <td>35.377237</td>\n",
       "      <td>NaN</td>\n",
       "      <td>33.303644</td>\n",
       "      <td>28.303780</td>\n",
       "      <td>NaN</td>\n",
       "      <td>30.645780</td>\n",
       "      <td>38.878773</td>\n",
       "      <td>39.714068</td>\n",
       "      <td>29.413497</td>\n",
       "    </tr>\n",
       "    <tr>\n",
       "      <th>2019-03-01 07:00:00</th>\n",
       "      <td>36.035648</td>\n",
       "      <td>39.705286</td>\n",
       "      <td>35.553426</td>\n",
       "      <td>36.302840</td>\n",
       "      <td>37.296786</td>\n",
       "      <td>29.646012</td>\n",
       "      <td>37.274344</td>\n",
       "      <td>34.481275</td>\n",
       "      <td>25.656125</td>\n",
       "      <td>38.771818</td>\n",
       "      <td>35.803762</td>\n",
       "      <td>33.131247</td>\n",
       "      <td>31.646226</td>\n",
       "      <td>37.953408</td>\n",
       "      <td>29.145283</td>\n",
       "      <td>...</td>\n",
       "      <td>36.282938</td>\n",
       "      <td>29.995966</td>\n",
       "      <td>33.730365</td>\n",
       "      <td>31.459479</td>\n",
       "      <td>38.044115</td>\n",
       "      <td>33.085353</td>\n",
       "      <td>38.609206</td>\n",
       "      <td>NaN</td>\n",
       "      <td>31.862805</td>\n",
       "      <td>26.866304</td>\n",
       "      <td>31.821528</td>\n",
       "      <td>30.822450</td>\n",
       "      <td>38.332764</td>\n",
       "      <td>41.073771</td>\n",
       "      <td>30.116905</td>\n",
       "    </tr>\n",
       "  </tbody>\n",
       "</table>\n",
       "<p>5 rows × 363 columns</p>\n",
       "</div>"
      ],
      "text/plain": [
       "                      L05201_x     L09870     L01543     L06286     L01144  \\\n",
       "time                                                                         \n",
       "2019-03-01 06:00:00  35.134963  40.085713        NaN        NaN  37.840989   \n",
       "2019-03-01 06:15:00  34.743706  37.282718  36.729523        NaN  36.071935   \n",
       "2019-03-01 06:30:00  35.198855  38.011871  36.333911  35.488701  35.613133   \n",
       "2019-03-01 06:45:00  35.753885  39.515138  35.683941  35.654141  36.317611   \n",
       "2019-03-01 07:00:00  36.035648  39.705286  35.553426  36.302840  37.296786   \n",
       "\n",
       "                        L05107     L05042     L01294     L00190     L02284  \\\n",
       "time                                                                         \n",
       "2019-03-01 06:00:00        NaN  40.093677  39.205644  30.599845  39.383541   \n",
       "2019-03-01 06:15:00  31.545508  39.244258  34.791920  27.670525  37.856298   \n",
       "2019-03-01 06:30:00  31.223235  37.757226  32.528805  25.905566  37.424585   \n",
       "2019-03-01 06:45:00  30.819836  36.971192  32.867365  25.571772  37.952419   \n",
       "2019-03-01 07:00:00  29.646012  37.274344  34.481275  25.656125  38.771818   \n",
       "\n",
       "                        L01152     L00082     L01693     L03587     L01312  \\\n",
       "time                                                                         \n",
       "2019-03-01 06:00:00        NaN        NaN        NaN        NaN        NaN   \n",
       "2019-03-01 06:15:00  40.562759        NaN  32.596429  40.046824  34.751048   \n",
       "2019-03-01 06:30:00  38.259191        NaN  32.647351  38.736527  31.741832   \n",
       "2019-03-01 06:45:00  36.544864  33.507180  31.973629  38.064815  29.550972   \n",
       "2019-03-01 07:00:00  35.803762  33.131247  31.646226  37.953408  29.145283   \n",
       "\n",
       "                     ...     L05811     L06913     L04241     L05145  \\\n",
       "time                 ...                                               \n",
       "2019-03-01 06:00:00  ...        NaN  31.488935  31.642293  29.726891   \n",
       "2019-03-01 06:15:00  ...  37.286573  32.539932  31.365265  30.417444   \n",
       "2019-03-01 06:30:00  ...  36.560167  32.628594  31.891656  31.509045   \n",
       "2019-03-01 06:45:00  ...  36.655475  31.577425  32.837938  31.872184   \n",
       "2019-03-01 07:00:00  ...  36.282938  29.995966  33.730365  31.459479   \n",
       "\n",
       "                        L04304     L01556     L00500  L98066     L07416  \\\n",
       "time                                                                      \n",
       "2019-03-01 06:00:00  35.321547        NaN  35.607722     NaN        NaN   \n",
       "2019-03-01 06:15:00  42.713888  35.687719  32.610254     NaN        NaN   \n",
       "2019-03-01 06:30:00  44.083700  35.730590  32.647672     NaN  33.636132   \n",
       "2019-03-01 06:45:00  41.391144  34.298342  35.377237     NaN  33.303644   \n",
       "2019-03-01 07:00:00  38.044115  33.085353  38.609206     NaN  31.862805   \n",
       "\n",
       "                        L04152     L03382     L04017     L04294     L05893  \\\n",
       "time                                                                         \n",
       "2019-03-01 06:00:00        NaN        NaN        NaN  33.862173        NaN   \n",
       "2019-03-01 06:15:00  34.474472        NaN        NaN  37.286859  38.009808   \n",
       "2019-03-01 06:30:00  30.993492        NaN  30.505382  38.871570  38.150128   \n",
       "2019-03-01 06:45:00  28.303780        NaN  30.645780  38.878773  39.714068   \n",
       "2019-03-01 07:00:00  26.866304  31.821528  30.822450  38.332764  41.073771   \n",
       "\n",
       "                      L05201_y  \n",
       "time                            \n",
       "2019-03-01 06:00:00        NaN  \n",
       "2019-03-01 06:15:00        NaN  \n",
       "2019-03-01 06:30:00  27.135176  \n",
       "2019-03-01 06:45:00  29.413497  \n",
       "2019-03-01 07:00:00  30.116905  \n",
       "\n",
       "[5 rows x 363 columns]"
      ]
     },
     "metadata": {},
     "output_type": "display_data"
    }
   ],
   "source": [
    "forecast_df = pd.read_csv('forecast_result_tainan.csv', index_col='time')\n",
    "display(forecast_df.head())"
   ]
  },
  {
   "cell_type": "code",
   "execution_count": 9,
   "metadata": {},
   "outputs": [
    {
     "name": "stdout",
     "output_type": "stream",
     "text": [
      "2019-03-01 14:00:00\n"
     ]
    }
   ],
   "source": [
    "import datetime\n",
    "date = datetime.datetime.fromtimestamp(1551420000)\n",
    "print(date)"
   ]
  },
  {
   "cell_type": "code",
   "execution_count": 11,
   "metadata": {},
   "outputs": [
    {
     "data": {
      "text/html": [
       "<div>\n",
       "<style scoped>\n",
       "    .dataframe tbody tr th:only-of-type {\n",
       "        vertical-align: middle;\n",
       "    }\n",
       "\n",
       "    .dataframe tbody tr th {\n",
       "        vertical-align: top;\n",
       "    }\n",
       "\n",
       "    .dataframe thead th {\n",
       "        text-align: right;\n",
       "    }\n",
       "</style>\n",
       "<table border=\"1\" class=\"dataframe\">\n",
       "  <thead>\n",
       "    <tr style=\"text-align: right;\">\n",
       "      <th></th>\n",
       "      <th>L04891</th>\n",
       "      <th>L09870</th>\n",
       "      <th>L01543</th>\n",
       "      <th>L06286</th>\n",
       "      <th>L01144</th>\n",
       "      <th>L05107</th>\n",
       "      <th>L05042</th>\n",
       "      <th>L01294</th>\n",
       "      <th>L00190</th>\n",
       "      <th>L02284</th>\n",
       "      <th>L01152</th>\n",
       "      <th>L00082</th>\n",
       "      <th>L01693</th>\n",
       "      <th>L03587</th>\n",
       "      <th>L01312</th>\n",
       "      <th>...</th>\n",
       "      <th>L05811</th>\n",
       "      <th>L06913</th>\n",
       "      <th>L04241</th>\n",
       "      <th>L05145</th>\n",
       "      <th>L04304</th>\n",
       "      <th>L01556</th>\n",
       "      <th>L00500</th>\n",
       "      <th>L98066</th>\n",
       "      <th>L07416</th>\n",
       "      <th>L04152</th>\n",
       "      <th>L03382</th>\n",
       "      <th>L04017</th>\n",
       "      <th>L04294</th>\n",
       "      <th>L05893</th>\n",
       "      <th>L05201</th>\n",
       "    </tr>\n",
       "    <tr>\n",
       "      <th>time</th>\n",
       "      <th></th>\n",
       "      <th></th>\n",
       "      <th></th>\n",
       "      <th></th>\n",
       "      <th></th>\n",
       "      <th></th>\n",
       "      <th></th>\n",
       "      <th></th>\n",
       "      <th></th>\n",
       "      <th></th>\n",
       "      <th></th>\n",
       "      <th></th>\n",
       "      <th></th>\n",
       "      <th></th>\n",
       "      <th></th>\n",
       "      <th></th>\n",
       "      <th></th>\n",
       "      <th></th>\n",
       "      <th></th>\n",
       "      <th></th>\n",
       "      <th></th>\n",
       "      <th></th>\n",
       "      <th></th>\n",
       "      <th></th>\n",
       "      <th></th>\n",
       "      <th></th>\n",
       "      <th></th>\n",
       "      <th></th>\n",
       "      <th></th>\n",
       "      <th></th>\n",
       "      <th></th>\n",
       "    </tr>\n",
       "  </thead>\n",
       "  <tbody>\n",
       "    <tr>\n",
       "      <th>2019-03-01 06:00:00</th>\n",
       "      <td>35.134963</td>\n",
       "      <td>40.085713</td>\n",
       "      <td>NaN</td>\n",
       "      <td>NaN</td>\n",
       "      <td>37.840989</td>\n",
       "      <td>NaN</td>\n",
       "      <td>40.093677</td>\n",
       "      <td>39.205644</td>\n",
       "      <td>30.599845</td>\n",
       "      <td>39.383541</td>\n",
       "      <td>NaN</td>\n",
       "      <td>NaN</td>\n",
       "      <td>NaN</td>\n",
       "      <td>NaN</td>\n",
       "      <td>NaN</td>\n",
       "      <td>...</td>\n",
       "      <td>NaN</td>\n",
       "      <td>31.488935</td>\n",
       "      <td>31.642293</td>\n",
       "      <td>29.726891</td>\n",
       "      <td>35.321547</td>\n",
       "      <td>NaN</td>\n",
       "      <td>35.607722</td>\n",
       "      <td>NaN</td>\n",
       "      <td>NaN</td>\n",
       "      <td>NaN</td>\n",
       "      <td>NaN</td>\n",
       "      <td>NaN</td>\n",
       "      <td>33.862173</td>\n",
       "      <td>NaN</td>\n",
       "      <td>NaN</td>\n",
       "    </tr>\n",
       "    <tr>\n",
       "      <th>2019-03-01 06:15:00</th>\n",
       "      <td>34.743706</td>\n",
       "      <td>37.282718</td>\n",
       "      <td>36.729523</td>\n",
       "      <td>NaN</td>\n",
       "      <td>36.071935</td>\n",
       "      <td>31.545508</td>\n",
       "      <td>39.244258</td>\n",
       "      <td>34.791920</td>\n",
       "      <td>27.670525</td>\n",
       "      <td>37.856298</td>\n",
       "      <td>40.562759</td>\n",
       "      <td>NaN</td>\n",
       "      <td>32.596429</td>\n",
       "      <td>40.046824</td>\n",
       "      <td>34.751048</td>\n",
       "      <td>...</td>\n",
       "      <td>37.286573</td>\n",
       "      <td>32.539932</td>\n",
       "      <td>31.365265</td>\n",
       "      <td>30.417444</td>\n",
       "      <td>42.713888</td>\n",
       "      <td>35.687719</td>\n",
       "      <td>32.610254</td>\n",
       "      <td>NaN</td>\n",
       "      <td>NaN</td>\n",
       "      <td>34.474472</td>\n",
       "      <td>NaN</td>\n",
       "      <td>NaN</td>\n",
       "      <td>37.286859</td>\n",
       "      <td>38.009808</td>\n",
       "      <td>NaN</td>\n",
       "    </tr>\n",
       "    <tr>\n",
       "      <th>2019-03-01 06:30:00</th>\n",
       "      <td>35.198855</td>\n",
       "      <td>38.011871</td>\n",
       "      <td>36.333911</td>\n",
       "      <td>35.488701</td>\n",
       "      <td>35.613133</td>\n",
       "      <td>31.223235</td>\n",
       "      <td>37.757226</td>\n",
       "      <td>32.528805</td>\n",
       "      <td>25.905566</td>\n",
       "      <td>37.424585</td>\n",
       "      <td>38.259191</td>\n",
       "      <td>NaN</td>\n",
       "      <td>32.647351</td>\n",
       "      <td>38.736527</td>\n",
       "      <td>31.741832</td>\n",
       "      <td>...</td>\n",
       "      <td>36.560167</td>\n",
       "      <td>32.628594</td>\n",
       "      <td>31.891656</td>\n",
       "      <td>31.509045</td>\n",
       "      <td>44.083700</td>\n",
       "      <td>35.730590</td>\n",
       "      <td>32.647672</td>\n",
       "      <td>NaN</td>\n",
       "      <td>33.636132</td>\n",
       "      <td>30.993492</td>\n",
       "      <td>NaN</td>\n",
       "      <td>30.505382</td>\n",
       "      <td>38.871570</td>\n",
       "      <td>38.150128</td>\n",
       "      <td>27.135176</td>\n",
       "    </tr>\n",
       "    <tr>\n",
       "      <th>2019-03-01 06:45:00</th>\n",
       "      <td>35.753885</td>\n",
       "      <td>39.515138</td>\n",
       "      <td>35.683941</td>\n",
       "      <td>35.654141</td>\n",
       "      <td>36.317611</td>\n",
       "      <td>30.819836</td>\n",
       "      <td>36.971192</td>\n",
       "      <td>32.867365</td>\n",
       "      <td>25.571772</td>\n",
       "      <td>37.952419</td>\n",
       "      <td>36.544864</td>\n",
       "      <td>33.507180</td>\n",
       "      <td>31.973629</td>\n",
       "      <td>38.064815</td>\n",
       "      <td>29.550972</td>\n",
       "      <td>...</td>\n",
       "      <td>36.655475</td>\n",
       "      <td>31.577425</td>\n",
       "      <td>32.837938</td>\n",
       "      <td>31.872184</td>\n",
       "      <td>41.391144</td>\n",
       "      <td>34.298342</td>\n",
       "      <td>35.377237</td>\n",
       "      <td>NaN</td>\n",
       "      <td>33.303644</td>\n",
       "      <td>28.303780</td>\n",
       "      <td>NaN</td>\n",
       "      <td>30.645780</td>\n",
       "      <td>38.878773</td>\n",
       "      <td>39.714068</td>\n",
       "      <td>29.413497</td>\n",
       "    </tr>\n",
       "    <tr>\n",
       "      <th>2019-03-01 07:00:00</th>\n",
       "      <td>36.035648</td>\n",
       "      <td>39.705286</td>\n",
       "      <td>35.553426</td>\n",
       "      <td>36.302840</td>\n",
       "      <td>37.296786</td>\n",
       "      <td>29.646012</td>\n",
       "      <td>37.274344</td>\n",
       "      <td>34.481275</td>\n",
       "      <td>25.656125</td>\n",
       "      <td>38.771818</td>\n",
       "      <td>35.803762</td>\n",
       "      <td>33.131247</td>\n",
       "      <td>31.646226</td>\n",
       "      <td>37.953408</td>\n",
       "      <td>29.145283</td>\n",
       "      <td>...</td>\n",
       "      <td>36.282938</td>\n",
       "      <td>29.995966</td>\n",
       "      <td>33.730365</td>\n",
       "      <td>31.459479</td>\n",
       "      <td>38.044115</td>\n",
       "      <td>33.085353</td>\n",
       "      <td>38.609206</td>\n",
       "      <td>NaN</td>\n",
       "      <td>31.862805</td>\n",
       "      <td>26.866304</td>\n",
       "      <td>31.821528</td>\n",
       "      <td>30.822450</td>\n",
       "      <td>38.332764</td>\n",
       "      <td>41.073771</td>\n",
       "      <td>30.116905</td>\n",
       "    </tr>\n",
       "  </tbody>\n",
       "</table>\n",
       "<p>5 rows × 363 columns</p>\n",
       "</div>"
      ],
      "text/plain": [
       "                        L04891     L09870     L01543     L06286     L01144  \\\n",
       "time                                                                         \n",
       "2019-03-01 06:00:00  35.134963  40.085713        NaN        NaN  37.840989   \n",
       "2019-03-01 06:15:00  34.743706  37.282718  36.729523        NaN  36.071935   \n",
       "2019-03-01 06:30:00  35.198855  38.011871  36.333911  35.488701  35.613133   \n",
       "2019-03-01 06:45:00  35.753885  39.515138  35.683941  35.654141  36.317611   \n",
       "2019-03-01 07:00:00  36.035648  39.705286  35.553426  36.302840  37.296786   \n",
       "\n",
       "                        L05107     L05042     L01294     L00190     L02284  \\\n",
       "time                                                                         \n",
       "2019-03-01 06:00:00        NaN  40.093677  39.205644  30.599845  39.383541   \n",
       "2019-03-01 06:15:00  31.545508  39.244258  34.791920  27.670525  37.856298   \n",
       "2019-03-01 06:30:00  31.223235  37.757226  32.528805  25.905566  37.424585   \n",
       "2019-03-01 06:45:00  30.819836  36.971192  32.867365  25.571772  37.952419   \n",
       "2019-03-01 07:00:00  29.646012  37.274344  34.481275  25.656125  38.771818   \n",
       "\n",
       "                        L01152     L00082     L01693     L03587     L01312  \\\n",
       "time                                                                         \n",
       "2019-03-01 06:00:00        NaN        NaN        NaN        NaN        NaN   \n",
       "2019-03-01 06:15:00  40.562759        NaN  32.596429  40.046824  34.751048   \n",
       "2019-03-01 06:30:00  38.259191        NaN  32.647351  38.736527  31.741832   \n",
       "2019-03-01 06:45:00  36.544864  33.507180  31.973629  38.064815  29.550972   \n",
       "2019-03-01 07:00:00  35.803762  33.131247  31.646226  37.953408  29.145283   \n",
       "\n",
       "                     ...     L05811     L06913     L04241     L05145  \\\n",
       "time                 ...                                               \n",
       "2019-03-01 06:00:00  ...        NaN  31.488935  31.642293  29.726891   \n",
       "2019-03-01 06:15:00  ...  37.286573  32.539932  31.365265  30.417444   \n",
       "2019-03-01 06:30:00  ...  36.560167  32.628594  31.891656  31.509045   \n",
       "2019-03-01 06:45:00  ...  36.655475  31.577425  32.837938  31.872184   \n",
       "2019-03-01 07:00:00  ...  36.282938  29.995966  33.730365  31.459479   \n",
       "\n",
       "                        L04304     L01556     L00500  L98066     L07416  \\\n",
       "time                                                                      \n",
       "2019-03-01 06:00:00  35.321547        NaN  35.607722     NaN        NaN   \n",
       "2019-03-01 06:15:00  42.713888  35.687719  32.610254     NaN        NaN   \n",
       "2019-03-01 06:30:00  44.083700  35.730590  32.647672     NaN  33.636132   \n",
       "2019-03-01 06:45:00  41.391144  34.298342  35.377237     NaN  33.303644   \n",
       "2019-03-01 07:00:00  38.044115  33.085353  38.609206     NaN  31.862805   \n",
       "\n",
       "                        L04152     L03382     L04017     L04294     L05893  \\\n",
       "time                                                                         \n",
       "2019-03-01 06:00:00        NaN        NaN        NaN  33.862173        NaN   \n",
       "2019-03-01 06:15:00  34.474472        NaN        NaN  37.286859  38.009808   \n",
       "2019-03-01 06:30:00  30.993492        NaN  30.505382  38.871570  38.150128   \n",
       "2019-03-01 06:45:00  28.303780        NaN  30.645780  38.878773  39.714068   \n",
       "2019-03-01 07:00:00  26.866304  31.821528  30.822450  38.332764  41.073771   \n",
       "\n",
       "                        L05201  \n",
       "time                            \n",
       "2019-03-01 06:00:00        NaN  \n",
       "2019-03-01 06:15:00        NaN  \n",
       "2019-03-01 06:30:00  27.135176  \n",
       "2019-03-01 06:45:00  29.413497  \n",
       "2019-03-01 07:00:00  30.116905  \n",
       "\n",
       "[5 rows x 363 columns]"
      ]
     },
     "metadata": {},
     "output_type": "display_data"
    }
   ],
   "source": [
    "forecast_df.index = pd.to_datetime(forecast_df.index, unit='s')\n",
    "display(forecast_df.head())"
   ]
  },
  {
   "cell_type": "code",
   "execution_count": 5,
   "metadata": {},
   "outputs": [],
   "source": [
    "sec_info = pd.read_csv('SECINFO.csv')\n",
    "#display(sec_info.head())"
   ]
  },
  {
   "cell_type": "code",
   "execution_count": 6,
   "metadata": {},
   "outputs": [],
   "source": [
    "sec_info = sec_info.dropna()"
   ]
  },
  {
   "cell_type": "code",
   "execution_count": 7,
   "metadata": {},
   "outputs": [
    {
     "data": {
      "text/plain": [
       "'In forecast but not in ground_truth: 247'"
      ]
     },
     "metadata": {},
     "output_type": "display_data"
    },
    {
     "data": {
      "text/plain": [
       "'In forecast and ground truth: 116'"
      ]
     },
     "metadata": {},
     "output_type": "display_data"
    }
   ],
   "source": [
    "\n",
    "sec_cols = forecast_df.columns\n",
    "sectid_ids_gt = list(sec_info['SECTORID'])\n",
    "not_in_gt = 0\n",
    "in_gt = 0\n",
    "sec_cols_gt = list()\n",
    "for sec in sec_cols:\n",
    "    if sec not in sectid_ids_gt:\n",
    "        not_in_gt += 1\n",
    "        #display('In sectodID: ' + sec)\n",
    "    else:\n",
    "        in_gt +=1\n",
    "        sec_cols_gt.append(sec)\n",
    "        #display(sec)\n",
    "        \n",
    "display('In forecast but not in ground_truth: ' + str(not_in_gt))\n",
    "display('In forecast and ground truth: ' +str(in_gt))"
   ]
  },
  {
   "cell_type": "code",
   "execution_count": 8,
   "metadata": {},
   "outputs": [],
   "source": [
    "sec_info = sec_info.set_index('SECTORID')\n"
   ]
  },
  {
   "cell_type": "code",
   "execution_count": 9,
   "metadata": {
    "scrolled": true
   },
   "outputs": [
    {
     "data": {
      "text/plain": [
       "Unnamed: 0                          183\n",
       "SECTORNAME    安和路五段(安和路五段81巷>海佃路一段213巷)\n",
       "STARTIC                           I0169\n",
       "ENDIC                             I0170\n",
       "LENGTH                              195\n",
       "LANENO                                2\n",
       "INTDIR                                0\n",
       "GROUPID                               0\n",
       "LANELENGTH                            7\n",
       "MODEL                               十字型\n",
       "CMSDESC                               0\n",
       "STATUS                                y\n",
       "TRAVELTIME                           10\n",
       "CAPACITY                             10\n",
       "START_X                         120.219\n",
       "START_Y                         23.0649\n",
       "END_X                           120.218\n",
       "END_Y                           23.0666\n",
       "Name: L01707, dtype: object"
      ]
     },
     "execution_count": 9,
     "metadata": {},
     "output_type": "execute_result"
    }
   ],
   "source": [
    "sec_info.loc['L01707']\n",
    "# 經緯 latitude-longitude"
   ]
  },
  {
   "cell_type": "markdown",
   "metadata": {},
   "source": [
    "### Save forecast results to csv"
   ]
  },
  {
   "cell_type": "code",
   "execution_count": 28,
   "metadata": {},
   "outputs": [
    {
     "data": {
      "text/plain": [
       "Unnamed: 0                113\n",
       "SECTORNAME    中華東路一段(小東路>華興路)\n",
       "STARTIC                 I0838\n",
       "ENDIC                   I0114\n",
       "LENGTH                    130\n",
       "LANENO                      2\n",
       "INTDIR                      0\n",
       "GROUPID                     0\n",
       "LANELENGTH                  7\n",
       "MODEL                     十字型\n",
       "CMSDESC                     0\n",
       "STATUS                      y\n",
       "TRAVELTIME                 10\n",
       "CAPACITY                   10\n",
       "START_X               120.235\n",
       "START_Y               23.0008\n",
       "END_X                 120.235\n",
       "END_Y                 22.9984\n",
       "Name: L01144, dtype: object"
      ]
     },
     "execution_count": 28,
     "metadata": {},
     "output_type": "execute_result"
    }
   ],
   "source": [
    "sec_info.loc['L01144']"
   ]
  },
  {
   "cell_type": "code",
   "execution_count": null,
   "metadata": {},
   "outputs": [],
   "source": [
    "time1_forecast['L01144'].values"
   ]
  },
  {
   "cell_type": "code",
   "execution_count": null,
   "metadata": {},
   "outputs": [],
   "source": [
    "m = folium.Map([23.0649, 120.219], zoom_start=14)\n",
    "m"
   ]
  },
  {
   "cell_type": "code",
   "execution_count": null,
   "metadata": {},
   "outputs": [],
   "source": [
    "m = folium.Map([23.0649, 120.219],zoom_start=12) #, tiles='stamentoner'\n",
    "\n",
    "myIcon = folium.CustomIcon('https://raw.githubusercontent.com/HanInfinity/iron2018_FoliumAndLeaflet/master/dist/icon/marker.png',\n",
    "                          icon_size = (30, 30),\n",
    "                          icon_anchor = (15, 30))\n",
    "\n",
    "\n",
    "for segment in time1_forecast.columns:\n",
    "    forecast_value = time1_forecast[segment].values\n",
    "    \n",
    "    points1 = [sec_info.loc[segment]['START_Y'],sec_info.loc[segment]['START_X'] ]\n",
    "    points2 = [sec_info.loc[segment]['END_Y'],sec_info.loc[segment]['END_X'] ]\n",
    "    dist = distance(points1[0], points1[1], points2[0], points2[1])\n",
    "\n",
    "    if 0 in points1:\n",
    "        continue\n",
    "        \n",
    "    if 0 in points2:\n",
    "        continue\n",
    "    if dist > 100:\n",
    "        continue\n",
    "    #folium.Marker(points1, icon= myIcon, popup='預測速度: ' + str(forecast_value[0])).add_to(m)\n",
    "    folium.features.ColorLine(\n",
    "        [points1, points2],\n",
    "        colors=[0],\n",
    "        colormap=[section_color(forecast_value), section_color(forecast_value)],\n",
    "        weight=8, opacity=1).add_to(m)\n",
    "    \n",
    "\n"
   ]
  },
  {
   "cell_type": "code",
   "execution_count": 45,
   "metadata": {},
   "outputs": [
    {
     "name": "stdout",
     "output_type": "stream",
     "text": [
      "730 2019-05-05 07:30:00\n",
      "800 2019-05-05 08:00:00\n",
      "830 2019-05-05 08:30:00\n",
      "900 2019-05-05 09:00:00\n",
      "1200 2019-05-05 12:00:00\n",
      "1230 2019-05-05 12:30:00\n",
      "1300 2019-05-05 13:00:00\n",
      "1330 2019-05-05 13:30:00\n",
      "1900 2019-05-05 19:00:00\n",
      "1930 2019-05-05 19:30:00\n",
      "2000 2019-05-05 20:00:00\n",
      "2030 2019-05-05 20:30:00\n"
     ]
    }
   ],
   "source": [
    "for a,b in timedict.items():\n",
    "    print(a,b)"
   ]
  },
  {
   "cell_type": "code",
   "execution_count": 10,
   "metadata": {},
   "outputs": [],
   "source": [
    "def add_colorline(points1, points2, forecast_value, m):\n",
    "    folium.features.ColorLine(\n",
    "            [points1, points2],\n",
    "            colors=[0],\n",
    "            colormap=[section_color(forecast_value), section_color(forecast_value)],\n",
    "            weight=8, opacity=1).add_to(m)\n",
    "    return m"
   ]
  },
  {
   "cell_type": "code",
   "execution_count": 32,
   "metadata": {},
   "outputs": [],
   "source": [
    "forecast_df_time = forecast_df.loc['2019-05-05 07:30:00'][sec_cols_gt].to_frame().transpose()"
   ]
  },
  {
   "cell_type": "code",
   "execution_count": 33,
   "metadata": {},
   "outputs": [
    {
     "data": {
      "text/html": [
       "<div>\n",
       "<style scoped>\n",
       "    .dataframe tbody tr th:only-of-type {\n",
       "        vertical-align: middle;\n",
       "    }\n",
       "\n",
       "    .dataframe tbody tr th {\n",
       "        vertical-align: top;\n",
       "    }\n",
       "\n",
       "    .dataframe thead th {\n",
       "        text-align: right;\n",
       "    }\n",
       "</style>\n",
       "<table border=\"1\" class=\"dataframe\">\n",
       "  <thead>\n",
       "    <tr style=\"text-align: right;\">\n",
       "      <th></th>\n",
       "      <th>L01144</th>\n",
       "      <th>L05107</th>\n",
       "      <th>L05042</th>\n",
       "      <th>L01294</th>\n",
       "      <th>L02284</th>\n",
       "      <th>L01152</th>\n",
       "      <th>L01693</th>\n",
       "      <th>L01312</th>\n",
       "      <th>L00796</th>\n",
       "      <th>L04690</th>\n",
       "      <th>L00466</th>\n",
       "      <th>L04720</th>\n",
       "      <th>L03266</th>\n",
       "      <th>L03374</th>\n",
       "      <th>L04624</th>\n",
       "      <th>...</th>\n",
       "      <th>L03376</th>\n",
       "      <th>L03663</th>\n",
       "      <th>L03321</th>\n",
       "      <th>L00472</th>\n",
       "      <th>L01665</th>\n",
       "      <th>L00832</th>\n",
       "      <th>L01624</th>\n",
       "      <th>L03674</th>\n",
       "      <th>L01844</th>\n",
       "      <th>L03750</th>\n",
       "      <th>L04241</th>\n",
       "      <th>L04304</th>\n",
       "      <th>L01556</th>\n",
       "      <th>L04152</th>\n",
       "      <th>L03382</th>\n",
       "    </tr>\n",
       "  </thead>\n",
       "  <tbody>\n",
       "    <tr>\n",
       "      <th>2019-05-05 07:30:00</th>\n",
       "      <td>36.092345</td>\n",
       "      <td>28.378919</td>\n",
       "      <td>40.928164</td>\n",
       "      <td>35.832162</td>\n",
       "      <td>41.180794</td>\n",
       "      <td>34.923623</td>\n",
       "      <td>34.836766</td>\n",
       "      <td>31.414859</td>\n",
       "      <td>31.704887</td>\n",
       "      <td>27.077374</td>\n",
       "      <td>35.542467</td>\n",
       "      <td>32.670106</td>\n",
       "      <td>34.588758</td>\n",
       "      <td>33.700631</td>\n",
       "      <td>33.465372</td>\n",
       "      <td>...</td>\n",
       "      <td>32.687026</td>\n",
       "      <td>30.378362</td>\n",
       "      <td>37.659515</td>\n",
       "      <td>31.869972</td>\n",
       "      <td>34.475896</td>\n",
       "      <td>44.539073</td>\n",
       "      <td>37.266615</td>\n",
       "      <td>34.292436</td>\n",
       "      <td>35.168533</td>\n",
       "      <td>31.196255</td>\n",
       "      <td>36.327147</td>\n",
       "      <td>32.77892</td>\n",
       "      <td>34.993195</td>\n",
       "      <td>30.228854</td>\n",
       "      <td>31.240842</td>\n",
       "    </tr>\n",
       "  </tbody>\n",
       "</table>\n",
       "<p>1 rows × 116 columns</p>\n",
       "</div>"
      ],
      "text/plain": [
       "                        L01144     L05107     L05042     L01294     L02284  \\\n",
       "2019-05-05 07:30:00  36.092345  28.378919  40.928164  35.832162  41.180794   \n",
       "\n",
       "                        L01152     L01693     L01312     L00796     L04690  \\\n",
       "2019-05-05 07:30:00  34.923623  34.836766  31.414859  31.704887  27.077374   \n",
       "\n",
       "                        L00466     L04720     L03266     L03374     L04624  \\\n",
       "2019-05-05 07:30:00  35.542467  32.670106  34.588758  33.700631  33.465372   \n",
       "\n",
       "                     ...     L03376     L03663     L03321     L00472  \\\n",
       "2019-05-05 07:30:00  ...  32.687026  30.378362  37.659515  31.869972   \n",
       "\n",
       "                        L01665     L00832     L01624     L03674     L01844  \\\n",
       "2019-05-05 07:30:00  34.475896  44.539073  37.266615  34.292436  35.168533   \n",
       "\n",
       "                        L03750     L04241    L04304     L01556     L04152  \\\n",
       "2019-05-05 07:30:00  31.196255  36.327147  32.77892  34.993195  30.228854   \n",
       "\n",
       "                        L03382  \n",
       "2019-05-05 07:30:00  31.240842  \n",
       "\n",
       "[1 rows x 116 columns]"
      ]
     },
     "execution_count": 33,
     "metadata": {},
     "output_type": "execute_result"
    }
   ],
   "source": [
    "forecast_df_time"
   ]
  },
  {
   "cell_type": "code",
   "execution_count": 42,
   "metadata": {},
   "outputs": [
    {
     "name": "stdout",
     "output_type": "stream",
     "text": [
      "Processing time  2019-05-05 07:30:00\n",
      "Processing time  2019-05-05 08:00:00\n",
      "Processing time  2019-05-05 08:30:00\n",
      "Processing time  2019-05-05 09:00:00\n",
      "Processing time  2019-05-05 12:00:00\n",
      "Processing time  2019-05-05 12:30:00\n",
      "Processing time  2019-05-05 13:00:00\n",
      "Processing time  2019-05-05 13:30:00\n",
      "Processing time  2019-05-05 19:00:00\n",
      "Processing time  2019-05-05 19:30:00\n",
      "Processing time  2019-05-05 20:00:00\n",
      "Processing time  2019-05-05 20:30:00\n"
     ]
    }
   ],
   "source": [
    "for name, time in timedict.items():\n",
    "    \n",
    "    print('Processing time ', time)\n",
    "    m = folium.Map([23.017100, 120.201147],zoom_start=12) #, tiles='stamentoner'\n",
    "\n",
    "    forecast_df_time = forecast_df.loc[time][sec_cols_gt].to_frame().transpose()\n",
    "\n",
    "    for segment in forecast_df_time.columns:\n",
    "        forecast_value = forecast_df_time[segment].values\n",
    "    \n",
    "        points1 = [sec_info.loc[segment]['START_Y'],sec_info.loc[segment]['START_X'] ]\n",
    "        points2 = [sec_info.loc[segment]['END_Y'],sec_info.loc[segment]['END_X'] ]\n",
    "        dist = distance(points1[0], points1[1], points2[0], points2[1])\n",
    "\n",
    "        if 0 in points1:\n",
    "            continue\n",
    "\n",
    "        if 0 in points2:\n",
    "            continue\n",
    "        if dist > 100:\n",
    "            continue\n",
    "        \n",
    "    \n",
    "        m = add_colorline(points1, points2, forecast_value, m)\n",
    "    \n",
    "    m.save(name + '.html')"
   ]
  },
  {
   "cell_type": "code",
   "execution_count": null,
   "metadata": {},
   "outputs": [],
   "source": [
    "m.save('2019-05-05 12:00:00.html')\n"
   ]
  },
  {
   "cell_type": "code",
   "execution_count": null,
   "metadata": {},
   "outputs": [],
   "source": [
    "START_X\tSTART_Y\tEND_X\tEND_Y"
   ]
  },
  {
   "cell_type": "code",
   "execution_count": null,
   "metadata": {},
   "outputs": [],
   "source": [
    "forecast_df['L01144'].describe()"
   ]
  },
  {
   "cell_type": "markdown",
   "metadata": {},
   "source": [
    "15:43 帥到警察開罰單 尖峰時刻到緩和\n",
    "15:43 帥到警察開罰單 平常低運量時刻\n",
    "15:43 帥到警察開罰單 晚上尖峰時刻到緩和"
   ]
  },
  {
   "cell_type": "code",
   "execution_count": 12,
   "metadata": {},
   "outputs": [],
   "source": [
    "time1 = '2019-05-05 12:00:00'\n",
    "time2 = '2019-05-05 15:00:00'\n",
    "time3 = '2019-05-05 18:00:00'\n",
    "time4 = '2019-05-05 21:00:00'\n",
    "time730 = '2019-05-05 07:30:00'\n",
    "time800 = '2019-05-05 08:00:00'\n",
    "time830 = '2019-05-05 08:30:00'\n",
    "time900 = '2019-05-05 09:00:00'\n",
    "time1200 = '2019-05-05 12:00:00'\n",
    "time1230 = '2019-05-05 12:30:00'\n",
    "time1300 = '2019-05-05 13:00:00'\n",
    "time1330 = '2019-05-05 13:30:00'\n",
    "time1900 = '2019-05-05 19:00:00'\n",
    "time1930 = '2019-05-05 19:30:00'\n",
    "time2000 = '2019-05-05 20:00:00'\n",
    "time2030 = '2019-05-05 20:30:00'"
   ]
  },
  {
   "cell_type": "code",
   "execution_count": 32,
   "metadata": {},
   "outputs": [],
   "source": [
    "a = time1_forecast.index"
   ]
  },
  {
   "cell_type": "code",
   "execution_count": 34,
   "metadata": {},
   "outputs": [
    {
     "data": {
      "text/plain": [
       "array([datetime.time(12, 0)], dtype=object)"
      ]
     },
     "execution_count": 34,
     "metadata": {},
     "output_type": "execute_result"
    }
   ],
   "source": []
  },
  {
   "cell_type": "code",
   "execution_count": 31,
   "metadata": {},
   "outputs": [],
   "source": [
    "time1_forecast = forecast_df.loc[time1][sec_cols_gt]\n",
    "time2_forecast = forecast_df.loc[time2][sec_cols_gt]\n",
    "time3_forecast = forecast_df.loc[time3][sec_cols_gt]\n",
    "time4_forecast = forecast_df.loc[time4][sec_cols_gt]\n",
    "time730_forecast = forecast_df.loc[time730][sec_cols_gt]\n",
    "time800_forecast = forecast_df.loc[time800][sec_cols_gt]\n",
    "time830_forecast = forecast_df.loc[time830][sec_cols_gt]\n",
    "time900_forecast = forecast_df.loc[time900][sec_cols_gt]\n",
    "time1200_forecast = forecast_df.loc[time1200][sec_cols_gt]\n",
    "time1230_forecast = forecast_df.loc[time1230][sec_cols_gt]\n",
    "time1300_forecast = forecast_df.loc[time1300][sec_cols_gt]\n",
    "time1330_forecast = forecast_df.loc[time1330][sec_cols_gt]\n",
    "time1900_forecast = forecast_df.loc[time1900][sec_cols_gt]\n",
    "time1930_forecast = forecast_df.loc[time1930][sec_cols_gt]\n",
    "time2000_forecast = forecast_df.loc[time2000][sec_cols_gt]\n",
    "time2030_forecast = forecast_df.loc[time2030][sec_cols_gt]"
   ]
  },
  {
   "cell_type": "code",
   "execution_count": null,
   "metadata": {},
   "outputs": [],
   "source": [
    "## Find statistics of forecast_df\n",
    "\n",
    "forecast_df.describe()"
   ]
  },
  {
   "cell_type": "code",
   "execution_count": 41,
   "metadata": {},
   "outputs": [],
   "source": [
    "def section_color(value):\n",
    "    if value < 28:\n",
    "        return 'red'\n",
    "    elif value < 32:\n",
    "        return 'orange'\n",
    "    elif value <36:\n",
    "        return 'green'\n",
    "    else:\n",
    "        return 'blue'"
   ]
  },
  {
   "cell_type": "code",
   "execution_count": 35,
   "metadata": {},
   "outputs": [],
   "source": [
    "from math import radians, sin, cos, acos\n",
    "\n",
    "\n",
    "def distance(slat, slon, elat, elon):\n",
    "    return 6371.01 * acos(sin(slat)*sin(elat) + cos(slat)*cos(elat)*cos(slon - elon))\n"
   ]
  },
  {
   "cell_type": "code",
   "execution_count": 13,
   "metadata": {},
   "outputs": [],
   "source": [
    "timedict = {'730': time730, \n",
    "'800': time800,\n",
    "'830': time830,\n",
    "'900': time900,\n",
    "'1200': time1200,\n",
    "'1230': time1230,\n",
    "'1300': time1300,\n",
    "'1330': time1330,\n",
    "'1900': time1900,\n",
    "'1930': time1930,\n",
    "'2000': time2000,\n",
    "'2030': time2030}"
   ]
  },
  {
   "cell_type": "code",
   "execution_count": 39,
   "metadata": {},
   "outputs": [
    {
     "data": {
      "text/plain": [
       "dict_keys(['730', '800', '830', '900', '1200', '1230', '1300', '1330', '1900', '1930', '2000', '2030'])"
      ]
     },
     "execution_count": 39,
     "metadata": {},
     "output_type": "execute_result"
    }
   ],
   "source": [
    "timedict.keys()"
   ]
  },
  {
   "cell_type": "code",
   "execution_count": 40,
   "metadata": {},
   "outputs": [
    {
     "ename": "SyntaxError",
     "evalue": "invalid syntax (<ipython-input-40-f57ed4a26692>, line 8)",
     "output_type": "error",
     "traceback": [
      "\u001b[0;36m  File \u001b[0;32m\"<ipython-input-40-f57ed4a26692>\"\u001b[0;36m, line \u001b[0;32m8\u001b[0m\n\u001b[0;31m    for segment in .columns:\u001b[0m\n\u001b[0m                   ^\u001b[0m\n\u001b[0;31mSyntaxError\u001b[0m\u001b[0;31m:\u001b[0m invalid syntax\n"
     ]
    }
   ],
   "source": []
  },
  {
   "cell_type": "code",
   "execution_count": null,
   "metadata": {},
   "outputs": [],
   "source": []
  }
 ],
 "metadata": {
  "kernelspec": {
   "display_name": "Python 3",
   "language": "python",
   "name": "python3"
  },
  "language_info": {
   "codemirror_mode": {
    "name": "ipython",
    "version": 3
   },
   "file_extension": ".py",
   "mimetype": "text/x-python",
   "name": "python",
   "nbconvert_exporter": "python",
   "pygments_lexer": "ipython3",
   "version": "3.7.5"
  },
  "toc": {
   "base_numbering": 1,
   "nav_menu": {},
   "number_sections": true,
   "sideBar": true,
   "skip_h1_title": false,
   "title_cell": "Table of Contents",
   "title_sidebar": "Contents",
   "toc_cell": false,
   "toc_position": {},
   "toc_section_display": true,
   "toc_window_display": false
  },
  "varInspector": {
   "cols": {
    "lenName": 16,
    "lenType": 16,
    "lenVar": 40
   },
   "kernels_config": {
    "python": {
     "delete_cmd_postfix": "",
     "delete_cmd_prefix": "del ",
     "library": "var_list.py",
     "varRefreshCmd": "print(var_dic_list())"
    },
    "r": {
     "delete_cmd_postfix": ") ",
     "delete_cmd_prefix": "rm(",
     "library": "var_list.r",
     "varRefreshCmd": "cat(var_dic_list()) "
    }
   },
   "types_to_exclude": [
    "module",
    "function",
    "builtin_function_or_method",
    "instance",
    "_Feature"
   ],
   "window_display": false
  }
 },
 "nbformat": 4,
 "nbformat_minor": 4
}
